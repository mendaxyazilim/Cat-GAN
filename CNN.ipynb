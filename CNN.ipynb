{
 "cells": [
  {
   "cell_type": "code",
   "execution_count": 63,
   "metadata": {},
   "outputs": [],
   "source": [
    "import keras\n",
    "from keras.models import Sequential\n",
    "from keras.layers import Dense, Dropout, Flatten\n",
    "from keras.layers import Conv2D, MaxPooling2D, BatchNormalization\n",
    "from keras import backend as K\n",
    "import os\n",
    "from PIL import Image\n",
    "import numpy as np\n",
    "from sklearn.model_selection import train_test_split\n",
    "from sklearn.preprocessing import OneHotEncoder\n",
    "import matplotlib.pyplot as plt\n",
    "from matplotlib.pyplot import imshow\n",
    "from random import randrange\n",
    "\n",
    "import numpy as np\n",
    "import matplotlib.pyplot as plt\n",
    "from sklearn.metrics import accuracy_score\n",
    "\n",
    "from keras.callbacks import EarlyStopping\n",
    "from keras.optimizers import RMSprop"
   ]
  },
  {
   "cell_type": "code",
   "execution_count": 2,
   "metadata": {},
   "outputs": [],
   "source": [
    "def read_image_data():\n",
    "\tprint('Reading image data ...')\n",
    "\ttrain_x = np.load('../../Data/data_train.npy')\n",
    "\ttrain_y = np.load('../../Data/train_labels.npy')\n",
    "\ttest_x = np.load('../../Data/data_test.npy')\n",
    "\n",
    "\treturn (train_x, train_y, test_x)"
   ]
  },
  {
   "cell_type": "code",
   "execution_count": 3,
   "metadata": {},
   "outputs": [
    {
     "name": "stdout",
     "output_type": "stream",
     "text": [
      "Reading image data ...\n"
     ]
    }
   ],
   "source": [
    "train_x, train_y, test_x = read_image_data()"
   ]
  },
  {
   "cell_type": "code",
   "execution_count": 4,
   "metadata": {},
   "outputs": [],
   "source": [
    "train_x = train_x.reshape(len(train_x), 32,32,3)"
   ]
  },
  {
   "cell_type": "code",
   "execution_count": 68,
   "metadata": {},
   "outputs": [],
   "source": [
    "onehot = []\n",
    "for x in range(len(train_y)):\n",
    "    if(train_y[x] == 0):\n",
    "        onehot.append([1,0,0,0])\n",
    "    elif(train_y[x] == 1):\n",
    "        onehot.append([0,1,0,0])\n",
    "    elif(train_y[x] == 2):\n",
    "        onehot.append([0,0,1,0])\n",
    "    else:\n",
    "        onehot.append([0,0,0,1])"
   ]
  },
  {
   "cell_type": "code",
   "execution_count": 69,
   "metadata": {},
   "outputs": [
    {
     "data": {
      "text/plain": [
       "(20000, 4)"
      ]
     },
     "execution_count": 69,
     "metadata": {},
     "output_type": "execute_result"
    }
   ],
   "source": [
    "onehot = np.array(onehot)\n",
    "onehot.shape"
   ]
  },
  {
   "cell_type": "code",
   "execution_count": 70,
   "metadata": {},
   "outputs": [],
   "source": [
    "x_train,x_test,y_train,y_test = train_test_split(train_x, onehot, test_size=0.5, shuffle=True)"
   ]
  },
  {
   "cell_type": "code",
   "execution_count": 71,
   "metadata": {},
   "outputs": [],
   "source": [
    "# Configure the checkpoint :\n",
    "checkpoint = EarlyStopping(monitor='loss', min_delta=0.00001, patience=15, verbose=1, mode='auto', restore_best_weights=True)\n",
    "callbacks_list = [checkpoint]"
   ]
  },
  {
   "cell_type": "code",
   "execution_count": 72,
   "metadata": {},
   "outputs": [
    {
     "name": "stdout",
     "output_type": "stream",
     "text": [
      "Model: \"sequential_18\"\n",
      "_________________________________________________________________\n",
      "Layer (type)                 Output Shape              Param #   \n",
      "=================================================================\n",
      "conv2d_64 (Conv2D)           (None, 32, 32, 32)        2432      \n",
      "_________________________________________________________________\n",
      "conv2d_65 (Conv2D)           (None, 32, 32, 32)        25632     \n",
      "_________________________________________________________________\n",
      "max_pooling2d_21 (MaxPooling (None, 16, 16, 32)        0         \n",
      "_________________________________________________________________\n",
      "dropout_35 (Dropout)         (None, 16, 16, 32)        0         \n",
      "_________________________________________________________________\n",
      "conv2d_66 (Conv2D)           (None, 16, 16, 64)        18496     \n",
      "_________________________________________________________________\n",
      "conv2d_67 (Conv2D)           (None, 16, 16, 64)        36928     \n",
      "_________________________________________________________________\n",
      "max_pooling2d_22 (MaxPooling (None, 8, 8, 64)          0         \n",
      "_________________________________________________________________\n",
      "dropout_36 (Dropout)         (None, 8, 8, 64)          0         \n",
      "_________________________________________________________________\n",
      "flatten_17 (Flatten)         (None, 4096)              0         \n",
      "_________________________________________________________________\n",
      "dense_45 (Dense)             (None, 256)               1048832   \n",
      "_________________________________________________________________\n",
      "dropout_37 (Dropout)         (None, 256)               0         \n",
      "_________________________________________________________________\n",
      "dense_46 (Dense)             (None, 4)                 1028      \n",
      "=================================================================\n",
      "Total params: 1,133,348\n",
      "Trainable params: 1,133,348\n",
      "Non-trainable params: 0\n",
      "_________________________________________________________________\n",
      "None\n"
     ]
    }
   ],
   "source": [
    "model = Sequential()\n",
    "\n",
    "model.add(Conv2D(filters = 32, kernel_size = (5,5),padding = 'Same', \n",
    "                 activation ='relu', input_shape = (32,32,3)))\n",
    "model.add(Conv2D(filters = 32, kernel_size = (5,5),padding = 'Same', \n",
    "                 activation ='relu'))\n",
    "model.add(MaxPooling2D(pool_size=(2,2)))\n",
    "model.add(Dropout(0.25))\n",
    "\n",
    "\n",
    "model.add(Conv2D(filters = 64, kernel_size = (3,3),padding = 'Same', \n",
    "                 activation ='relu'))\n",
    "model.add(Conv2D(filters = 64, kernel_size = (3,3),padding = 'Same', \n",
    "                 activation ='relu'))\n",
    "model.add(MaxPooling2D(pool_size=(2,2), strides=(2,2)))\n",
    "model.add(Dropout(0.25))\n",
    "\n",
    "\n",
    "model.add(Flatten())\n",
    "model.add(Dense(256, activation = \"relu\"))\n",
    "model.add(Dropout(0.5))\n",
    "model.add(Dense(4, activation = \"softmax\"))\n",
    "# Define the optimizer\n",
    "optimizer = RMSprop(lr=0.001, rho=0.9, epsilon=1e-08, decay=0.0)\n",
    "# Compile the model\n",
    "model.compile(optimizer = optimizer , loss = \"categorical_crossentropy\", metrics=[\"accuracy\"])\n",
    "print(model.summary())"
   ]
  },
  {
   "cell_type": "code",
   "execution_count": 73,
   "metadata": {
    "scrolled": true
   },
   "outputs": [
    {
     "name": "stdout",
     "output_type": "stream",
     "text": [
      "Epoch 1/2500\n",
      "20000/20000 [==============================] - 32s 2ms/step - loss: 1.3948 - accuracy: 0.3223\n",
      "Epoch 2/2500\n",
      "20000/20000 [==============================] - 32s 2ms/step - loss: 1.1783 - accuracy: 0.4927\n",
      "Epoch 3/2500\n",
      "20000/20000 [==============================] - 32s 2ms/step - loss: 1.0204 - accuracy: 0.5677\n",
      "Epoch 4/2500\n",
      "20000/20000 [==============================] - 32s 2ms/step - loss: 0.9304 - accuracy: 0.6093\n",
      "Epoch 5/2500\n",
      "20000/20000 [==============================] - 32s 2ms/step - loss: 0.8564 - accuracy: 0.6534\n",
      "Epoch 6/2500\n",
      "20000/20000 [==============================] - 32s 2ms/step - loss: 0.7782 - accuracy: 0.6901\n",
      "Epoch 7/2500\n",
      "20000/20000 [==============================] - 32s 2ms/step - loss: 0.7277 - accuracy: 0.7131\n",
      "Epoch 8/2500\n",
      "20000/20000 [==============================] - 32s 2ms/step - loss: 0.6728 - accuracy: 0.7337\n",
      "Epoch 9/2500\n",
      "20000/20000 [==============================] - 32s 2ms/step - loss: 0.6215 - accuracy: 0.7569\n",
      "Epoch 10/2500\n",
      "20000/20000 [==============================] - 32s 2ms/step - loss: 0.5850 - accuracy: 0.7736\n",
      "Epoch 11/2500\n",
      "20000/20000 [==============================] - 32s 2ms/step - loss: 0.5466 - accuracy: 0.7893\n",
      "Epoch 12/2500\n",
      "20000/20000 [==============================] - 32s 2ms/step - loss: 0.4868 - accuracy: 0.8141\n",
      "Epoch 13/2500\n",
      "20000/20000 [==============================] - 32s 2ms/step - loss: 0.4710 - accuracy: 0.8201\n",
      "Epoch 14/2500\n",
      "20000/20000 [==============================] - 32s 2ms/step - loss: 0.4324 - accuracy: 0.8373\n",
      "Epoch 15/2500\n",
      "20000/20000 [==============================] - 33s 2ms/step - loss: 0.3967 - accuracy: 0.8501\n",
      "Epoch 16/2500\n",
      "20000/20000 [==============================] - 33s 2ms/step - loss: 0.3747 - accuracy: 0.8584\n",
      "Epoch 17/2500\n",
      "20000/20000 [==============================] - 33s 2ms/step - loss: 0.3531 - accuracy: 0.8662\n",
      "Epoch 18/2500\n",
      "20000/20000 [==============================] - 33s 2ms/step - loss: 0.3337 - accuracy: 0.8733\n",
      "Epoch 19/2500\n",
      "20000/20000 [==============================] - 33s 2ms/step - loss: 0.3046 - accuracy: 0.8877\n",
      "Epoch 20/2500\n",
      "20000/20000 [==============================] - 33s 2ms/step - loss: 0.2900 - accuracy: 0.8931\n",
      "Epoch 21/2500\n",
      "20000/20000 [==============================] - 33s 2ms/step - loss: 0.2601 - accuracy: 0.9054\n",
      "Epoch 22/2500\n",
      "20000/20000 [==============================] - 33s 2ms/step - loss: 0.2534 - accuracy: 0.9075\n",
      "Epoch 23/2500\n",
      "20000/20000 [==============================] - 33s 2ms/step - loss: 0.2440 - accuracy: 0.9101\n",
      "Epoch 24/2500\n",
      "20000/20000 [==============================] - 33s 2ms/step - loss: 0.2216 - accuracy: 0.9193\n",
      "Epoch 25/2500\n",
      "20000/20000 [==============================] - 33s 2ms/step - loss: 0.2192 - accuracy: 0.9203\n",
      "Epoch 26/2500\n",
      "20000/20000 [==============================] - 33s 2ms/step - loss: 0.1979 - accuracy: 0.9302\n",
      "Epoch 27/2500\n",
      "20000/20000 [==============================] - 33s 2ms/step - loss: 0.1799 - accuracy: 0.9316\n",
      "Epoch 28/2500\n",
      "20000/20000 [==============================] - 33s 2ms/step - loss: 0.1803 - accuracy: 0.9344\n",
      "Epoch 29/2500\n",
      "20000/20000 [==============================] - 33s 2ms/step - loss: 0.1618 - accuracy: 0.9421\n",
      "Epoch 30/2500\n",
      "20000/20000 [==============================] - 33s 2ms/step - loss: 0.1556 - accuracy: 0.9416\n",
      "Epoch 31/2500\n",
      "20000/20000 [==============================] - 33s 2ms/step - loss: 0.1450 - accuracy: 0.9470\n",
      "Epoch 32/2500\n",
      "20000/20000 [==============================] - 33s 2ms/step - loss: 0.1348 - accuracy: 0.9528\n",
      "Epoch 33/2500\n",
      "20000/20000 [==============================] - 33s 2ms/step - loss: 0.1278 - accuracy: 0.9533\n",
      "Epoch 34/2500\n",
      "20000/20000 [==============================] - 33s 2ms/step - loss: 0.1185 - accuracy: 0.9565\n",
      "Epoch 35/2500\n",
      "20000/20000 [==============================] - 33s 2ms/step - loss: 0.1181 - accuracy: 0.9573\n",
      "Epoch 36/2500\n",
      "20000/20000 [==============================] - 33s 2ms/step - loss: 0.1146 - accuracy: 0.9580\n",
      "Epoch 37/2500\n",
      "20000/20000 [==============================] - 33s 2ms/step - loss: 0.1116 - accuracy: 0.9607\n",
      "Epoch 38/2500\n",
      "20000/20000 [==============================] - 33s 2ms/step - loss: 0.1053 - accuracy: 0.9628\n",
      "Epoch 39/2500\n",
      "20000/20000 [==============================] - 33s 2ms/step - loss: 0.1035 - accuracy: 0.9629\n",
      "Epoch 40/2500\n",
      "20000/20000 [==============================] - 33s 2ms/step - loss: 0.0995 - accuracy: 0.9642\n",
      "Epoch 41/2500\n",
      "20000/20000 [==============================] - 33s 2ms/step - loss: 0.0943 - accuracy: 0.9665\n",
      "Epoch 42/2500\n",
      "20000/20000 [==============================] - 33s 2ms/step - loss: 0.0960 - accuracy: 0.9676\n",
      "Epoch 43/2500\n",
      "20000/20000 [==============================] - 33s 2ms/step - loss: 0.0923 - accuracy: 0.9683\n",
      "Epoch 44/2500\n",
      "20000/20000 [==============================] - 33s 2ms/step - loss: 0.0845 - accuracy: 0.9701\n",
      "Epoch 45/2500\n",
      "20000/20000 [==============================] - 33s 2ms/step - loss: 0.0851 - accuracy: 0.9695\n",
      "Epoch 46/2500\n",
      "20000/20000 [==============================] - 33s 2ms/step - loss: 0.0876 - accuracy: 0.9685\n",
      "Epoch 47/2500\n",
      "20000/20000 [==============================] - 33s 2ms/step - loss: 0.0779 - accuracy: 0.9729\n",
      "Epoch 48/2500\n",
      "20000/20000 [==============================] - 33s 2ms/step - loss: 0.0772 - accuracy: 0.9731\n",
      "Epoch 49/2500\n",
      "20000/20000 [==============================] - 33s 2ms/step - loss: 0.0864 - accuracy: 0.9720\n",
      "Epoch 50/2500\n",
      "20000/20000 [==============================] - 33s 2ms/step - loss: 0.0808 - accuracy: 0.9729\n",
      "Epoch 51/2500\n",
      "20000/20000 [==============================] - 33s 2ms/step - loss: 0.0792 - accuracy: 0.9719\n",
      "Epoch 52/2500\n",
      "20000/20000 [==============================] - 33s 2ms/step - loss: 0.0845 - accuracy: 0.9709\n",
      "Epoch 53/2500\n",
      "20000/20000 [==============================] - 33s 2ms/step - loss: 0.0712 - accuracy: 0.9745\n",
      "Epoch 54/2500\n",
      "20000/20000 [==============================] - 33s 2ms/step - loss: 0.0769 - accuracy: 0.9734\n",
      "Epoch 55/2500\n",
      "20000/20000 [==============================] - 33s 2ms/step - loss: 0.0795 - accuracy: 0.9736\n",
      "Epoch 56/2500\n",
      "20000/20000 [==============================] - 33s 2ms/step - loss: 0.0726 - accuracy: 0.9751\n",
      "Epoch 57/2500\n",
      "20000/20000 [==============================] - 33s 2ms/step - loss: 0.0768 - accuracy: 0.9720\n",
      "Epoch 58/2500\n",
      "20000/20000 [==============================] - 33s 2ms/step - loss: 0.0692 - accuracy: 0.9765\n",
      "Epoch 59/2500\n",
      "20000/20000 [==============================] - 33s 2ms/step - loss: 0.0732 - accuracy: 0.9758\n",
      "Epoch 60/2500\n",
      "20000/20000 [==============================] - 33s 2ms/step - loss: 0.0696 - accuracy: 0.9761\n",
      "Epoch 61/2500\n",
      "20000/20000 [==============================] - 33s 2ms/step - loss: 0.0746 - accuracy: 0.9746\n",
      "Epoch 62/2500\n",
      "20000/20000 [==============================] - 33s 2ms/step - loss: 0.0761 - accuracy: 0.9753\n",
      "Epoch 63/2500\n",
      "20000/20000 [==============================] - 33s 2ms/step - loss: 0.0740 - accuracy: 0.9741\n",
      "Epoch 64/2500\n",
      "20000/20000 [==============================] - 33s 2ms/step - loss: 0.0711 - accuracy: 0.9754\n",
      "Epoch 65/2500\n",
      "20000/20000 [==============================] - 34s 2ms/step - loss: 0.0770 - accuracy: 0.9740\n",
      "Epoch 66/2500\n",
      "20000/20000 [==============================] - 34s 2ms/step - loss: 0.0660 - accuracy: 0.9783\n",
      "Epoch 67/2500\n",
      "20000/20000 [==============================] - 34s 2ms/step - loss: 0.0720 - accuracy: 0.9760\n",
      "Epoch 68/2500\n",
      "20000/20000 [==============================] - 34s 2ms/step - loss: 0.0661 - accuracy: 0.9789\n",
      "Epoch 69/2500\n",
      "20000/20000 [==============================] - 34s 2ms/step - loss: 0.0702 - accuracy: 0.9768\n",
      "Epoch 70/2500\n",
      "20000/20000 [==============================] - 34s 2ms/step - loss: 0.0728 - accuracy: 0.9751\n",
      "Epoch 71/2500\n",
      "20000/20000 [==============================] - 34s 2ms/step - loss: 0.0700 - accuracy: 0.9772\n",
      "Epoch 72/2500\n",
      "20000/20000 [==============================] - 34s 2ms/step - loss: 0.0685 - accuracy: 0.9777\n",
      "Epoch 73/2500\n",
      "20000/20000 [==============================] - 33s 2ms/step - loss: 0.0775 - accuracy: 0.9754\n",
      "Epoch 74/2500\n",
      "20000/20000 [==============================] - 33s 2ms/step - loss: 0.0693 - accuracy: 0.9779\n",
      "Epoch 75/2500\n",
      "20000/20000 [==============================] - 33s 2ms/step - loss: 0.0682 - accuracy: 0.9783\n",
      "Epoch 76/2500\n"
     ]
    },
    {
     "name": "stdout",
     "output_type": "stream",
     "text": [
      "20000/20000 [==============================] - 33s 2ms/step - loss: 0.0739 - accuracy: 0.9765\n",
      "Epoch 77/2500\n",
      "20000/20000 [==============================] - 33s 2ms/step - loss: 0.0756 - accuracy: 0.9753\n",
      "Epoch 78/2500\n",
      "20000/20000 [==============================] - 33s 2ms/step - loss: 0.0792 - accuracy: 0.9753\n",
      "Epoch 79/2500\n",
      "20000/20000 [==============================] - 33s 2ms/step - loss: 0.0761 - accuracy: 0.9766\n",
      "Epoch 80/2500\n",
      "20000/20000 [==============================] - 34s 2ms/step - loss: 0.0665 - accuracy: 0.9790\n",
      "Epoch 81/2500\n",
      "20000/20000 [==============================] - 34s 2ms/step - loss: 0.0759 - accuracy: 0.9760\n",
      "Restoring model weights from the end of the best epoch\n",
      "Epoch 00081: early stopping\n"
     ]
    }
   ],
   "source": [
    "history = model.fit(train_x, onehot, epochs=2500, batch_size=500, verbose=1,callbacks=callbacks_list)"
   ]
  },
  {
   "cell_type": "code",
   "execution_count": 74,
   "metadata": {},
   "outputs": [
    {
     "data": {
      "image/png": "[encoded data removed]",
      "text/plain": [
       "<Figure size 432x288 with 1 Axes>"
      ]
     },
     "metadata": {
      "needs_background": "light"
     },
     "output_type": "display_data"
    }
   ],
   "source": [
    "# Plot training & validation loss values\n",
    "plt.plot(history.history['loss'])\n",
    "plt.title('Model Loss')\n",
    "plt.ylabel('Loss')\n",
    "plt.xlabel('Epoch')\n",
    "plt.legend(['Training', 'Validation'], loc='upper right')\n",
    "plt.show()"
   ]
  },
  {
   "cell_type": "markdown",
   "metadata": {},
   "source": [
    "# Training Prediction"
   ]
  },
  {
   "cell_type": "code",
   "execution_count": 75,
   "metadata": {},
   "outputs": [],
   "source": [
    "predict = model.predict(train_x)"
   ]
  },
  {
   "cell_type": "code",
   "execution_count": 76,
   "metadata": {},
   "outputs": [
    {
     "data": {
      "text/plain": [
       "(20000, 4)"
      ]
     },
     "execution_count": 76,
     "metadata": {},
     "output_type": "execute_result"
    }
   ],
   "source": [
    "predict.shape"
   ]
  },
  {
   "cell_type": "code",
   "execution_count": 77,
   "metadata": {},
   "outputs": [],
   "source": [
    "submission = []\n",
    "for i in range(len(predict)):\n",
    "    submission.append(np.where(predict[i] == np.amax(predict[i]))[0][0])"
   ]
  },
  {
   "cell_type": "code",
   "execution_count": 78,
   "metadata": {},
   "outputs": [
    {
     "data": {
      "text/plain": [
       "0.9987"
      ]
     },
     "execution_count": 78,
     "metadata": {},
     "output_type": "execute_result"
    }
   ],
   "source": [
    "accuracy_score(train_y,submission)"
   ]
  },
  {
   "cell_type": "markdown",
   "metadata": {},
   "source": [
    "# Testing Prediction and Submission"
   ]
  },
  {
   "cell_type": "code",
   "execution_count": 79,
   "metadata": {},
   "outputs": [],
   "source": [
    "import csv\n",
    "def kaggleize(predictions,file):\n",
    "\n",
    "\tif(len(predictions.shape)==1):\n",
    "\t\tpredictions.shape = [predictions.shape[0],1]\n",
    "\n",
    "\tids = 1 + np.arange(predictions.shape[0])[None].T\n",
    "\tkaggle_predictions = np.hstack((ids,predictions)).astype(int)\n",
    "\twriter = csv.writer(open(file, 'w'))\n",
    "\twriter.writerow(['# id','Prediction'])\n",
    "\twriter.writerows(kaggle_predictions)"
   ]
  },
  {
   "cell_type": "code",
   "execution_count": 80,
   "metadata": {},
   "outputs": [],
   "source": [
    "test_x = test_x.reshape(len(test_x), 32,32,3)"
   ]
  },
  {
   "cell_type": "code",
   "execution_count": 81,
   "metadata": {},
   "outputs": [],
   "source": [
    "predict = model.predict(test_x)"
   ]
  },
  {
   "cell_type": "code",
   "execution_count": 82,
   "metadata": {},
   "outputs": [
    {
     "data": {
      "text/plain": [
       "(4000,)"
      ]
     },
     "execution_count": 82,
     "metadata": {},
     "output_type": "execute_result"
    }
   ],
   "source": [
    "submission = []\n",
    "for i in range(len(predict)):\n",
    "    submission.append(np.where(predict[i] == np.amax(predict[i]))[0][0])\n",
    "submission = np.array(submission)\n",
    "submission.shape"
   ]
  },
  {
   "cell_type": "code",
   "execution_count": 83,
   "metadata": {},
   "outputs": [],
   "source": [
    "kaggleize(submission,'submission.csv')"
   ]
  },
  {
   "cell_type": "markdown",
   "metadata": {},
   "source": [
    "# Save Model"
   ]
  },
  {
   "cell_type": "code",
   "execution_count": 84,
   "metadata": {},
   "outputs": [],
   "source": [
    "model.save('CNN.h5')"
   ]
  }
 ],
 "metadata": {
  "kernelspec": {
   "display_name": "Python 3",
   "language": "python",
   "name": "python3"
  },
  "language_info": {
   "codemirror_mode": {
    "name": "ipython",
    "version": 3
   },
   "file_extension": ".py",
   "mimetype": "text/x-python",
   "name": "python",
   "nbconvert_exporter": "python",
   "pygments_lexer": "ipython3",
   "version": "3.7.4"
  }
 },
 "nbformat": 4,
 "nbformat_minor": 2
}
