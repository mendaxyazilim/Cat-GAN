{
 "cells": [
  {
   "cell_type": "code",
   "execution_count": 1,
   "metadata": {},
   "outputs": [
    {
     "name": "stderr",
     "output_type": "stream",
     "text": [
      "Using TensorFlow backend.\n"
     ]
    }
   ],
   "source": [
    "from keras.layers import Input, Dense, Reshape, Flatten, Dropout\n",
    "from keras.layers import BatchNormalization, Activation, ZeroPadding2D\n",
    "from keras.layers.advanced_activations import LeakyReLU\n",
    "from keras.layers.convolutional import UpSampling2D, Conv2D, MaxPooling2D\n",
    "from keras.models import Sequential, Model\n",
    "from keras.optimizers import Adam\n",
    "from sklearn.utils import shuffle\n",
    "\n",
    "import matplotlib.pyplot as plt\n",
    "\n",
    "import sys\n",
    "\n",
    "import numpy as np\n",
    "\n",
    "import os\n",
    "\n",
    "from PIL import Image"
   ]
  },
  {
   "cell_type": "code",
   "execution_count": 2,
   "metadata": {},
   "outputs": [],
   "source": [
    "def load_data():\n",
    "        data = []\n",
    "        paths = []\n",
    "        y = []\n",
    "        for r, d, f in os.walk(r\"D:\\Downloads\\cats-faces-64x64-for-generative-models\\cats\"):\n",
    "            for file in f:\n",
    "                if '.jpg' in file:\n",
    "                    paths.append(os.path.join(r, file))\n",
    "\n",
    "        #for each file add normal resolution and small resolution to arrays\n",
    "        for path in paths:\n",
    "            img = Image.open(path)\n",
    "            #x = img.resize((64,64))\n",
    "            placeholder = np.array(img)\n",
    "            #placeholder = placeholder[...,:3]\n",
    "            data.append(placeholder)\n",
    "                \n",
    "        x_train = np.load(r'C:\\Users\\Vee\\Desktop\\python\\CNNs\\trash\\pca_dataset.npy')\n",
    "        y_train = np.array(data)\n",
    "        y_train = y_train.reshape(len(data),64,64,3)\n",
    "        X_shuffle, Y_shuffle = shuffle(x_train, y_train)\n",
    "        return X_shuffle, Y_shuffle"
   ]
  },
  {
   "cell_type": "code",
   "execution_count": 3,
   "metadata": {},
   "outputs": [],
   "source": [
    "class DCGAN():\n",
    "    def __init__(self):\n",
    "        # Input shape\n",
    "        self.img_rows = 64\n",
    "        self.img_cols = 64\n",
    "        self.channels = 3\n",
    "        self.img_shape = (self.img_rows, self.img_cols, self.channels)\n",
    "        self.latent_dim = 512\n",
    "\n",
    "        optimizer = Adam(0.0002, 0.5)\n",
    "\n",
    "        # Build and compile the discriminator\n",
    "        self.discriminator = self.build_discriminator()\n",
    "        self.discriminator.compile(loss='binary_crossentropy',\n",
    "            optimizer=optimizer,\n",
    "            metrics=['accuracy'])\n",
    "\n",
    "        # Build the generator\n",
    "        self.generator = self.build_generator()\n",
    "        generator = self.generator\n",
    "\n",
    "        # The generator takes noise as input and generates imgs\n",
    "        z = Input(shape=(self.latent_dim,))\n",
    "        img = self.generator(z)\n",
    "\n",
    "        # For the combined model we will only train the generator\n",
    "        self.discriminator.trainable = False\n",
    "\n",
    "        # The discriminator takes generated images as input and determines validity\n",
    "        valid = self.discriminator(img)\n",
    "\n",
    "        # The combined model  (stacked generator and discriminator)\n",
    "        # Trains the generator to fool the discriminator\n",
    "        self.combined = Model(z, valid)\n",
    "        self.combined.compile(loss='binary_crossentropy', optimizer=optimizer)\n",
    "\n",
    "    def build_generator(self):\n",
    "\n",
    "        model = Sequential()\n",
    "        model.add(Dense(8 * 8 * 8, input_dim=self.latent_dim))\n",
    "        model.add(Reshape((8, 8, 8)))\n",
    "        \n",
    "        model.add(Conv2D(64, kernel_size=(5,5), padding=\"same\"))\n",
    "        model.add(LeakyReLU(alpha=0.2))\n",
    "        \n",
    "        model.add(UpSampling2D())\n",
    "        \n",
    "        model.add(Conv2D(64, kernel_size=(5,5), padding=\"same\"))\n",
    "        model.add(LeakyReLU(alpha=0.2))\n",
    "        \n",
    "        model.add(UpSampling2D())\n",
    "\n",
    "        model.add(Conv2D(64, kernel_size=(5,5), padding=\"same\"))\n",
    "        model.add(LeakyReLU(alpha=0.2))\n",
    "        \n",
    "        model.add(UpSampling2D())\n",
    "\n",
    "        model.add(Conv2D(64, kernel_size=(5,5), padding=\"same\"))\n",
    "        model.add(LeakyReLU(alpha=0.2))\n",
    "        \n",
    "        model.add(Conv2D(3, kernel_size=(5,5), padding=\"same\"))\n",
    "        model.add(LeakyReLU(alpha=0.2))\n",
    "        model.summary()\n",
    "\n",
    "        noise = Input(shape=(self.latent_dim,))\n",
    "        img = model(noise)\n",
    "\n",
    "        return Model(noise, img)\n",
    "\n",
    "    def build_discriminator(self):\n",
    "\n",
    "        model = Sequential()\n",
    "\n",
    "        model.add(Conv2D(64, kernel_size=(5,5), strides=3, input_shape=self.img_shape, padding=\"same\",activation = \"relu\"))\n",
    "        model.add(MaxPooling2D(pool_size=(2, 2)))\n",
    "        model.add(Dropout(0.25))\n",
    "        model.add(Conv2D(64, kernel_size=(5,5), activation='relu', padding=\"same\"))\n",
    "        model.add(MaxPooling2D(pool_size=(2, 2)))\n",
    "        model.add(Dropout(0.25))\n",
    "        model.add(Conv2D(64, kernel_size=(5,5), activation='relu', padding=\"same\"))\n",
    "        model.add(MaxPooling2D(pool_size=(2, 2)))\n",
    "        model.add(Dropout(0.25))\n",
    "        model.add(Conv2D(64, kernel_size=(5,5), activation='relu', padding=\"same\"))\n",
    "        model.add(Dropout(0.25))\n",
    "        model.add(Conv2D(64, kernel_size=(5,5), activation='relu', padding=\"same\"))\n",
    "        model.add(Dropout(0.25))\n",
    "        model.add(Conv2D(64, kernel_size=(5,5), activation='relu', padding=\"same\"))\n",
    "        model.add(Dropout(0.25))\n",
    "        model.add(Flatten())\n",
    "        model.add(Dense(1, activation='sigmoid'))\n",
    "\n",
    "        model.summary()\n",
    "\n",
    "        img = Input(shape=self.img_shape)\n",
    "        validity = model(img)\n",
    "\n",
    "        return Model(img, validity)\n",
    "    \n",
    "\n",
    "    def train(self, epochs, batch_size=128, save_interval=50):\n",
    "\n",
    "        # Load the dataset\n",
    "        X_train, Y_train = load_data()\n",
    "        \n",
    "        Y_train = Y_train/255\n",
    "\n",
    "        # Adversarial ground truths\n",
    "        valid = np.ones((batch_size, 1))\n",
    "        fake = np.zeros((batch_size, 1))\n",
    "\n",
    "        for epoch in range(epochs):\n",
    "            start = 0\n",
    "            end = start + batch_size\n",
    "            for i in range(int(len(X_train)/batch_size)):\n",
    "                imgs = Y_train[start:end]\n",
    "                noise = X_train[start:end]\n",
    "\n",
    "                # ---------------------\n",
    "                #  Train Discriminator\n",
    "                # ---------------------\n",
    "\n",
    "                # Select a random half of images\n",
    "                gen_imgs = self.generator.predict(noise)\n",
    "\n",
    "                # Train the discriminator (real classified as ones and generated as zeros)\n",
    "                d_loss_real = self.discriminator.train_on_batch(imgs, valid)\n",
    "                d_loss_fake = self.discriminator.train_on_batch(gen_imgs, fake)\n",
    "                d_loss = 0.5 * np.add(d_loss_real, d_loss_fake)\n",
    "\n",
    "                # ---------------------\n",
    "                #  Train Generator\n",
    "                # ---------------------\n",
    "\n",
    "                # Train the generator (wants discriminator to mistake images as real)\n",
    "                g_loss = self.combined.train_on_batch(noise, valid)\n",
    "                \n",
    "                start = start + batch_size\n",
    "                end = end + batch_size\n",
    "            # Plot the progress\n",
    "            print (\"%d [D loss: %f, acc.: %.2f%%] [G loss: %f]\" % (epoch, d_loss[0], 100*d_loss[1], g_loss))\n",
    "\n",
    "            # If at save interval => save generated image samples\n",
    "            if epoch % save_interval == 0:\n",
    "                # Select a random indexes\n",
    "                idx = np.random.randint(0, X_train.shape[0], 8)\n",
    "                x_points = X_train[idx]\n",
    "                y_points = Y_train[idx]\n",
    "                self.save_imgs(epoch, self.generator.predict(x_points), y_points)\n",
    "\n",
    "    def save_imgs(self, epoch, gen_imgs, y_points):\n",
    "        r, c = 4, 4\n",
    "        gen_imgs = np.array(gen_imgs) * 255\n",
    "        gen_imgs = gen_imgs.astype(int)\n",
    "        y_points = np.array(y_points) * 255\n",
    "        y_points = y_points.astype(int)\n",
    "        \n",
    "        fig=plt.figure(figsize= (40, 40))\n",
    "        \n",
    "        img_count = 0;\n",
    "        index_count = 0;\n",
    "        y_count = 0;\n",
    "        \n",
    "        for i in range(1, c+1):\n",
    "            for j in range(1, r+1):\n",
    "                if(j % 2 == 0):\n",
    "                    img = y_points[y_count]\n",
    "                    y_count = y_count+1\n",
    "                else:\n",
    "                    img = gen_imgs[index_count]\n",
    "                    index_count = index_count+1\n",
    "                fig.add_subplot(r, c, img_count+1)\n",
    "                plt.imshow(img)\n",
    "                img_count = img_count + 1\n",
    "        fig.savefig(r\"C:\\Users\\Vee\\Desktop\\python\\GAN\\pca_gan\\epoch_%d.png\" % epoch)\n",
    "        plt.close()\n",
    "        # save model to .h5 file\n",
    "        self.generator.save(r\"C:\\Users\\Vee\\Desktop\\python\\GAN\\pca_gan\\generator\" + str(epoch) + \".h5\")"
   ]
  },
  {
   "cell_type": "code",
   "execution_count": 4,
   "metadata": {},
   "outputs": [
    {
     "name": "stdout",
     "output_type": "stream",
     "text": [
      "WARNING:tensorflow:From C:\\Users\\Vee\\Anaconda3\\lib\\site-packages\\keras\\backend\\tensorflow_backend.py:4070: The name tf.nn.max_pool is deprecated. Please use tf.nn.max_pool2d instead.\n",
      "\n",
      "Model: \"sequential_1\"\n",
      "_________________________________________________________________\n",
      "Layer (type)                 Output Shape              Param #   \n",
      "=================================================================\n",
      "conv2d_1 (Conv2D)            (None, 22, 22, 64)        4864      \n",
      "_________________________________________________________________\n",
      "max_pooling2d_1 (MaxPooling2 (None, 11, 11, 64)        0         \n",
      "_________________________________________________________________\n",
      "dropout_1 (Dropout)          (None, 11, 11, 64)        0         \n",
      "_________________________________________________________________\n",
      "conv2d_2 (Conv2D)            (None, 11, 11, 64)        102464    \n",
      "_________________________________________________________________\n",
      "max_pooling2d_2 (MaxPooling2 (None, 5, 5, 64)          0         \n",
      "_________________________________________________________________\n",
      "dropout_2 (Dropout)          (None, 5, 5, 64)          0         \n",
      "_________________________________________________________________\n",
      "conv2d_3 (Conv2D)            (None, 5, 5, 64)          102464    \n",
      "_________________________________________________________________\n",
      "max_pooling2d_3 (MaxPooling2 (None, 2, 2, 64)          0         \n",
      "_________________________________________________________________\n",
      "dropout_3 (Dropout)          (None, 2, 2, 64)          0         \n",
      "_________________________________________________________________\n",
      "conv2d_4 (Conv2D)            (None, 2, 2, 64)          102464    \n",
      "_________________________________________________________________\n",
      "dropout_4 (Dropout)          (None, 2, 2, 64)          0         \n",
      "_________________________________________________________________\n",
      "conv2d_5 (Conv2D)            (None, 2, 2, 64)          102464    \n",
      "_________________________________________________________________\n",
      "dropout_5 (Dropout)          (None, 2, 2, 64)          0         \n",
      "_________________________________________________________________\n",
      "conv2d_6 (Conv2D)            (None, 2, 2, 64)          102464    \n",
      "_________________________________________________________________\n",
      "dropout_6 (Dropout)          (None, 2, 2, 64)          0         \n",
      "_________________________________________________________________\n",
      "flatten_1 (Flatten)          (None, 256)               0         \n",
      "_________________________________________________________________\n",
      "dense_1 (Dense)              (None, 1)                 257       \n",
      "=================================================================\n",
      "Total params: 517,441\n",
      "Trainable params: 517,441\n",
      "Non-trainable params: 0\n",
      "_________________________________________________________________\n",
      "WARNING:tensorflow:From C:\\Users\\Vee\\Anaconda3\\lib\\site-packages\\tensorflow\\python\\ops\\nn_impl.py:180: add_dispatch_support.<locals>.wrapper (from tensorflow.python.ops.array_ops) is deprecated and will be removed in a future version.\n",
      "Instructions for updating:\n",
      "Use tf.where in 2.0, which has the same broadcast rule as np.where\n",
      "Model: \"sequential_2\"\n",
      "_________________________________________________________________\n",
      "Layer (type)                 Output Shape              Param #   \n",
      "=================================================================\n",
      "dense_2 (Dense)              (None, 512)               262656    \n",
      "_________________________________________________________________\n",
      "reshape_1 (Reshape)          (None, 8, 8, 8)           0         \n",
      "_________________________________________________________________\n",
      "conv2d_7 (Conv2D)            (None, 8, 8, 64)          12864     \n",
      "_________________________________________________________________\n",
      "leaky_re_lu_1 (LeakyReLU)    (None, 8, 8, 64)          0         \n",
      "_________________________________________________________________\n",
      "up_sampling2d_1 (UpSampling2 (None, 16, 16, 64)        0         \n",
      "_________________________________________________________________\n",
      "conv2d_8 (Conv2D)            (None, 16, 16, 64)        102464    \n",
      "_________________________________________________________________\n",
      "leaky_re_lu_2 (LeakyReLU)    (None, 16, 16, 64)        0         \n",
      "_________________________________________________________________\n",
      "up_sampling2d_2 (UpSampling2 (None, 32, 32, 64)        0         \n",
      "_________________________________________________________________\n",
      "conv2d_9 (Conv2D)            (None, 32, 32, 64)        102464    \n",
      "_________________________________________________________________\n",
      "leaky_re_lu_3 (LeakyReLU)    (None, 32, 32, 64)        0         \n",
      "_________________________________________________________________\n",
      "up_sampling2d_3 (UpSampling2 (None, 64, 64, 64)        0         \n",
      "_________________________________________________________________\n",
      "conv2d_10 (Conv2D)           (None, 64, 64, 64)        102464    \n",
      "_________________________________________________________________\n",
      "leaky_re_lu_4 (LeakyReLU)    (None, 64, 64, 64)        0         \n",
      "_________________________________________________________________\n",
      "conv2d_11 (Conv2D)           (None, 64, 64, 3)         4803      \n",
      "_________________________________________________________________\n",
      "leaky_re_lu_5 (LeakyReLU)    (None, 64, 64, 3)         0         \n",
      "=================================================================\n",
      "Total params: 587,715\n",
      "Trainable params: 587,715\n",
      "Non-trainable params: 0\n",
      "_________________________________________________________________\n"
     ]
    }
   ],
   "source": [
    "dcgan = DCGAN()"
   ]
  },
  {
   "cell_type": "code",
   "execution_count": null,
   "metadata": {
    "scrolled": true
   },
   "outputs": [
    {
     "name": "stdout",
     "output_type": "stream",
     "text": [
      "WARNING:tensorflow:From C:\\Users\\Vee\\Anaconda3\\lib\\site-packages\\keras\\backend\\tensorflow_backend.py:422: The name tf.global_variables is deprecated. Please use tf.compat.v1.global_variables instead.\n",
      "\n"
     ]
    },
    {
     "name": "stderr",
     "output_type": "stream",
     "text": [
      "C:\\Users\\Vee\\Anaconda3\\lib\\site-packages\\keras\\engine\\training.py:297: UserWarning: Discrepancy between trainable weights and collected trainable weights, did you set `model.trainable` without calling `model.compile` after ?\n",
      "  'Discrepancy between trainable weights and collected trainable'\n",
      "C:\\Users\\Vee\\Anaconda3\\lib\\site-packages\\keras\\engine\\training.py:297: UserWarning: Discrepancy between trainable weights and collected trainable weights, did you set `model.trainable` without calling `model.compile` after ?\n",
      "  'Discrepancy between trainable weights and collected trainable'\n",
      "C:\\Users\\Vee\\Anaconda3\\lib\\site-packages\\keras\\engine\\training.py:297: UserWarning: Discrepancy between trainable weights and collected trainable weights, did you set `model.trainable` without calling `model.compile` after ?\n",
      "  'Discrepancy between trainable weights and collected trainable'\n",
      "Clipping input data to the valid range for imshow with RGB data ([0..1] for floats or [0..255] for integers).\n",
      "Clipping input data to the valid range for imshow with RGB data ([0..1] for floats or [0..255] for integers).\n",
      "Clipping input data to the valid range for imshow with RGB data ([0..1] for floats or [0..255] for integers).\n",
      "Clipping input data to the valid range for imshow with RGB data ([0..1] for floats or [0..255] for integers).\n",
      "Clipping input data to the valid range for imshow with RGB data ([0..1] for floats or [0..255] for integers).\n",
      "Clipping input data to the valid range for imshow with RGB data ([0..1] for floats or [0..255] for integers).\n"
     ]
    },
    {
     "name": "stdout",
     "output_type": "stream",
     "text": [
      "0 [D loss: 0.693163, acc.: 47.51%] [G loss: 0.693213]\n",
      "1 [D loss: 0.693418, acc.: 44.75%] [G loss: 0.692735]\n",
      "2 [D loss: 0.693251, acc.: 48.34%] [G loss: 0.693739]\n",
      "3 [D loss: 0.693701, acc.: 44.20%] [G loss: 0.691942]\n",
      "4 [D loss: 0.693148, acc.: 53.04%] [G loss: 0.693614]\n",
      "5 [D loss: 0.692889, acc.: 56.63%] [G loss: 0.693245]\n",
      "6 [D loss: 0.694923, acc.: 49.45%] [G loss: 0.697824]\n",
      "7 [D loss: 0.693154, acc.: 51.93%] [G loss: 0.702845]\n",
      "8 [D loss: 0.687361, acc.: 69.34%] [G loss: 0.710170]\n",
      "9 [D loss: 0.686384, acc.: 68.51%] [G loss: 0.712705]\n"
     ]
    },
    {
     "name": "stderr",
     "output_type": "stream",
     "text": [
      "Clipping input data to the valid range for imshow with RGB data ([0..1] for floats or [0..255] for integers).\n",
      "Clipping input data to the valid range for imshow with RGB data ([0..1] for floats or [0..255] for integers).\n",
      "Clipping input data to the valid range for imshow with RGB data ([0..1] for floats or [0..255] for integers).\n",
      "Clipping input data to the valid range for imshow with RGB data ([0..1] for floats or [0..255] for integers).\n",
      "Clipping input data to the valid range for imshow with RGB data ([0..1] for floats or [0..255] for integers).\n",
      "Clipping input data to the valid range for imshow with RGB data ([0..1] for floats or [0..255] for integers).\n",
      "Clipping input data to the valid range for imshow with RGB data ([0..1] for floats or [0..255] for integers).\n",
      "Clipping input data to the valid range for imshow with RGB data ([0..1] for floats or [0..255] for integers).\n"
     ]
    },
    {
     "name": "stdout",
     "output_type": "stream",
     "text": [
      "10 [D loss: 0.694803, acc.: 45.30%] [G loss: 0.705492]\n",
      "11 [D loss: 0.693401, acc.: 50.55%] [G loss: 0.705847]\n",
      "12 [D loss: 0.660430, acc.: 50.00%] [G loss: 0.649424]\n",
      "13 [D loss: 0.587969, acc.: 69.34%] [G loss: 1.468977]\n",
      "14 [D loss: 0.665234, acc.: 61.05%] [G loss: 1.308643]\n",
      "15 [D loss: 0.616623, acc.: 66.57%] [G loss: 1.119421]\n",
      "16 [D loss: 0.645850, acc.: 64.64%] [G loss: 1.256846]\n",
      "17 [D loss: 0.674498, acc.: 59.12%] [G loss: 0.969952]\n",
      "18 [D loss: 0.656501, acc.: 60.22%] [G loss: 0.958721]\n",
      "19 [D loss: 0.682770, acc.: 57.73%] [G loss: 0.979712]\n"
     ]
    },
    {
     "name": "stderr",
     "output_type": "stream",
     "text": [
      "Clipping input data to the valid range for imshow with RGB data ([0..1] for floats or [0..255] for integers).\n",
      "Clipping input data to the valid range for imshow with RGB data ([0..1] for floats or [0..255] for integers).\n",
      "Clipping input data to the valid range for imshow with RGB data ([0..1] for floats or [0..255] for integers).\n",
      "Clipping input data to the valid range for imshow with RGB data ([0..1] for floats or [0..255] for integers).\n",
      "Clipping input data to the valid range for imshow with RGB data ([0..1] for floats or [0..255] for integers).\n",
      "Clipping input data to the valid range for imshow with RGB data ([0..1] for floats or [0..255] for integers).\n",
      "Clipping input data to the valid range for imshow with RGB data ([0..1] for floats or [0..255] for integers).\n"
     ]
    },
    {
     "name": "stdout",
     "output_type": "stream",
     "text": [
      "20 [D loss: 0.686182, acc.: 58.29%] [G loss: 1.002934]\n",
      "21 [D loss: 0.619080, acc.: 68.23%] [G loss: 1.057914]\n",
      "22 [D loss: 0.652955, acc.: 61.60%] [G loss: 1.077265]\n",
      "23 [D loss: 0.671748, acc.: 57.46%] [G loss: 0.949719]\n",
      "24 [D loss: 0.597459, acc.: 68.78%] [G loss: 1.003507]\n",
      "25 [D loss: 0.666741, acc.: 58.84%] [G loss: 0.926633]\n",
      "26 [D loss: 0.631026, acc.: 63.54%] [G loss: 0.999572]\n",
      "27 [D loss: 0.639411, acc.: 61.60%] [G loss: 0.987911]\n",
      "28 [D loss: 0.667639, acc.: 61.05%] [G loss: 0.944811]\n",
      "29 [D loss: 0.685242, acc.: 56.63%] [G loss: 0.827551]\n"
     ]
    },
    {
     "name": "stderr",
     "output_type": "stream",
     "text": [
      "Clipping input data to the valid range for imshow with RGB data ([0..1] for floats or [0..255] for integers).\n",
      "Clipping input data to the valid range for imshow with RGB data ([0..1] for floats or [0..255] for integers).\n",
      "Clipping input data to the valid range for imshow with RGB data ([0..1] for floats or [0..255] for integers).\n",
      "Clipping input data to the valid range for imshow with RGB data ([0..1] for floats or [0..255] for integers).\n",
      "Clipping input data to the valid range for imshow with RGB data ([0..1] for floats or [0..255] for integers).\n",
      "Clipping input data to the valid range for imshow with RGB data ([0..1] for floats or [0..255] for integers).\n",
      "Clipping input data to the valid range for imshow with RGB data ([0..1] for floats or [0..255] for integers).\n",
      "Clipping input data to the valid range for imshow with RGB data ([0..1] for floats or [0..255] for integers).\n"
     ]
    },
    {
     "name": "stdout",
     "output_type": "stream",
     "text": [
      "30 [D loss: 0.654643, acc.: 59.67%] [G loss: 0.880254]\n",
      "31 [D loss: 0.665091, acc.: 62.43%] [G loss: 0.902015]\n",
      "32 [D loss: 0.666712, acc.: 54.42%] [G loss: 0.813357]\n",
      "33 [D loss: 0.691386, acc.: 57.18%] [G loss: 0.866548]\n",
      "34 [D loss: 0.671603, acc.: 56.91%] [G loss: 0.866254]\n",
      "35 [D loss: 0.668868, acc.: 56.91%] [G loss: 0.876879]\n",
      "36 [D loss: 0.647127, acc.: 61.05%] [G loss: 0.897252]\n",
      "37 [D loss: 0.683489, acc.: 53.31%] [G loss: 0.856416]\n",
      "38 [D loss: 0.608307, acc.: 68.78%] [G loss: 0.912783]\n",
      "39 [D loss: 0.665851, acc.: 57.46%] [G loss: 0.905185]\n"
     ]
    },
    {
     "name": "stderr",
     "output_type": "stream",
     "text": [
      "Clipping input data to the valid range for imshow with RGB data ([0..1] for floats or [0..255] for integers).\n",
      "Clipping input data to the valid range for imshow with RGB data ([0..1] for floats or [0..255] for integers).\n",
      "Clipping input data to the valid range for imshow with RGB data ([0..1] for floats or [0..255] for integers).\n",
      "Clipping input data to the valid range for imshow with RGB data ([0..1] for floats or [0..255] for integers).\n",
      "Clipping input data to the valid range for imshow with RGB data ([0..1] for floats or [0..255] for integers).\n",
      "Clipping input data to the valid range for imshow with RGB data ([0..1] for floats or [0..255] for integers).\n",
      "Clipping input data to the valid range for imshow with RGB data ([0..1] for floats or [0..255] for integers).\n"
     ]
    },
    {
     "name": "stdout",
     "output_type": "stream",
     "text": [
      "40 [D loss: 0.560120, acc.: 71.55%] [G loss: 0.932714]\n",
      "41 [D loss: 0.649300, acc.: 61.33%] [G loss: 0.876803]\n",
      "42 [D loss: 0.670646, acc.: 61.88%] [G loss: 0.855806]\n",
      "43 [D loss: 0.606319, acc.: 66.30%] [G loss: 0.960801]\n",
      "44 [D loss: 0.666572, acc.: 58.01%] [G loss: 0.861909]\n",
      "45 [D loss: 0.661517, acc.: 61.33%] [G loss: 0.883830]\n",
      "46 [D loss: 0.621797, acc.: 63.54%] [G loss: 0.877866]\n",
      "47 [D loss: 0.685002, acc.: 57.46%] [G loss: 0.886098]\n",
      "48 [D loss: 0.658462, acc.: 61.88%] [G loss: 0.931851]\n",
      "49 [D loss: 0.656857, acc.: 58.01%] [G loss: 0.861455]\n"
     ]
    },
    {
     "name": "stderr",
     "output_type": "stream",
     "text": [
      "Clipping input data to the valid range for imshow with RGB data ([0..1] for floats or [0..255] for integers).\n",
      "Clipping input data to the valid range for imshow with RGB data ([0..1] for floats or [0..255] for integers).\n",
      "Clipping input data to the valid range for imshow with RGB data ([0..1] for floats or [0..255] for integers).\n",
      "Clipping input data to the valid range for imshow with RGB data ([0..1] for floats or [0..255] for integers).\n",
      "Clipping input data to the valid range for imshow with RGB data ([0..1] for floats or [0..255] for integers).\n",
      "Clipping input data to the valid range for imshow with RGB data ([0..1] for floats or [0..255] for integers).\n",
      "Clipping input data to the valid range for imshow with RGB data ([0..1] for floats or [0..255] for integers).\n",
      "Clipping input data to the valid range for imshow with RGB data ([0..1] for floats or [0..255] for integers).\n"
     ]
    },
    {
     "name": "stdout",
     "output_type": "stream",
     "text": [
      "50 [D loss: 0.657191, acc.: 61.60%] [G loss: 0.956752]\n",
      "51 [D loss: 0.685372, acc.: 56.63%] [G loss: 0.866279]\n",
      "52 [D loss: 0.639579, acc.: 63.26%] [G loss: 0.801784]\n",
      "53 [D loss: 0.665328, acc.: 59.39%] [G loss: 0.845884]\n",
      "54 [D loss: 0.607413, acc.: 66.57%] [G loss: 0.953194]\n",
      "55 [D loss: 0.594095, acc.: 68.23%] [G loss: 0.926987]\n",
      "56 [D loss: 0.552609, acc.: 72.38%] [G loss: 0.909986]\n",
      "57 [D loss: 0.682513, acc.: 57.18%] [G loss: 0.948081]\n",
      "58 [D loss: 0.659663, acc.: 58.01%] [G loss: 0.904700]\n",
      "59 [D loss: 0.692984, acc.: 49.72%] [G loss: 0.734552]\n"
     ]
    },
    {
     "name": "stderr",
     "output_type": "stream",
     "text": [
      "Clipping input data to the valid range for imshow with RGB data ([0..1] for floats or [0..255] for integers).\n",
      "Clipping input data to the valid range for imshow with RGB data ([0..1] for floats or [0..255] for integers).\n",
      "Clipping input data to the valid range for imshow with RGB data ([0..1] for floats or [0..255] for integers).\n",
      "Clipping input data to the valid range for imshow with RGB data ([0..1] for floats or [0..255] for integers).\n"
     ]
    },
    {
     "name": "stdout",
     "output_type": "stream",
     "text": [
      "60 [D loss: 0.683878, acc.: 54.42%] [G loss: 0.770853]\n"
     ]
    },
    {
     "name": "stderr",
     "output_type": "stream",
     "text": [
      "Clipping input data to the valid range for imshow with RGB data ([0..1] for floats or [0..255] for integers).\n",
      "Clipping input data to the valid range for imshow with RGB data ([0..1] for floats or [0..255] for integers).\n"
     ]
    },
    {
     "name": "stdout",
     "output_type": "stream",
     "text": [
      "61 [D loss: 0.689467, acc.: 53.31%] [G loss: 0.764011]\n",
      "62 [D loss: 0.650393, acc.: 61.88%] [G loss: 0.826860]\n",
      "63 [D loss: 0.646022, acc.: 62.15%] [G loss: 0.873153]\n",
      "64 [D loss: 0.655129, acc.: 58.56%] [G loss: 0.917141]\n",
      "65 [D loss: 0.684219, acc.: 54.70%] [G loss: 0.800834]\n",
      "66 [D loss: 0.659945, acc.: 60.22%] [G loss: 0.826868]\n",
      "67 [D loss: 0.672457, acc.: 55.80%] [G loss: 0.828143]\n",
      "68 [D loss: 0.625820, acc.: 64.92%] [G loss: 0.887610]\n",
      "69 [D loss: 0.726364, acc.: 58.29%] [G loss: 0.905182]\n"
     ]
    },
    {
     "name": "stderr",
     "output_type": "stream",
     "text": [
      "Clipping input data to the valid range for imshow with RGB data ([0..1] for floats or [0..255] for integers).\n",
      "Clipping input data to the valid range for imshow with RGB data ([0..1] for floats or [0..255] for integers).\n",
      "Clipping input data to the valid range for imshow with RGB data ([0..1] for floats or [0..255] for integers).\n",
      "Clipping input data to the valid range for imshow with RGB data ([0..1] for floats or [0..255] for integers).\n",
      "Clipping input data to the valid range for imshow with RGB data ([0..1] for floats or [0..255] for integers).\n",
      "Clipping input data to the valid range for imshow with RGB data ([0..1] for floats or [0..255] for integers).\n",
      "Clipping input data to the valid range for imshow with RGB data ([0..1] for floats or [0..255] for integers).\n",
      "Clipping input data to the valid range for imshow with RGB data ([0..1] for floats or [0..255] for integers).\n"
     ]
    },
    {
     "name": "stdout",
     "output_type": "stream",
     "text": [
      "70 [D loss: 0.678852, acc.: 56.91%] [G loss: 0.842388]\n",
      "71 [D loss: 0.636702, acc.: 61.05%] [G loss: 0.855137]\n",
      "72 [D loss: 0.659901, acc.: 59.67%] [G loss: 0.814864]\n",
      "73 [D loss: 0.640214, acc.: 64.09%] [G loss: 0.863493]\n",
      "74 [D loss: 0.666073, acc.: 59.12%] [G loss: 0.834554]\n",
      "75 [D loss: 0.636461, acc.: 64.36%] [G loss: 0.810858]\n",
      "76 [D loss: 0.657434, acc.: 58.84%] [G loss: 0.852487]\n",
      "77 [D loss: 0.660212, acc.: 59.39%] [G loss: 0.871305]\n",
      "78 [D loss: 0.691455, acc.: 55.25%] [G loss: 0.903752]\n",
      "79 [D loss: 0.641507, acc.: 63.81%] [G loss: 0.878768]\n"
     ]
    },
    {
     "name": "stderr",
     "output_type": "stream",
     "text": [
      "Clipping input data to the valid range for imshow with RGB data ([0..1] for floats or [0..255] for integers).\n",
      "Clipping input data to the valid range for imshow with RGB data ([0..1] for floats or [0..255] for integers).\n",
      "Clipping input data to the valid range for imshow with RGB data ([0..1] for floats or [0..255] for integers).\n",
      "Clipping input data to the valid range for imshow with RGB data ([0..1] for floats or [0..255] for integers).\n",
      "Clipping input data to the valid range for imshow with RGB data ([0..1] for floats or [0..255] for integers).\n",
      "Clipping input data to the valid range for imshow with RGB data ([0..1] for floats or [0..255] for integers).\n",
      "Clipping input data to the valid range for imshow with RGB data ([0..1] for floats or [0..255] for integers).\n",
      "Clipping input data to the valid range for imshow with RGB data ([0..1] for floats or [0..255] for integers).\n"
     ]
    },
    {
     "name": "stdout",
     "output_type": "stream",
     "text": [
      "80 [D loss: 0.626191, acc.: 62.98%] [G loss: 0.885347]\n",
      "81 [D loss: 0.691688, acc.: 53.04%] [G loss: 0.740607]\n",
      "82 [D loss: 0.629618, acc.: 68.23%] [G loss: 0.812479]\n",
      "83 [D loss: 0.617543, acc.: 62.71%] [G loss: 0.953467]\n",
      "84 [D loss: 0.643879, acc.: 63.54%] [G loss: 0.884404]\n",
      "85 [D loss: 0.638195, acc.: 64.36%] [G loss: 0.798998]\n",
      "86 [D loss: 0.643895, acc.: 61.60%] [G loss: 0.834900]\n",
      "87 [D loss: 0.691684, acc.: 54.14%] [G loss: 0.752276]\n",
      "88 [D loss: 0.652893, acc.: 59.12%] [G loss: 0.841984]\n",
      "89 [D loss: 0.667122, acc.: 59.94%] [G loss: 0.865581]\n"
     ]
    },
    {
     "name": "stderr",
     "output_type": "stream",
     "text": [
      "Clipping input data to the valid range for imshow with RGB data ([0..1] for floats or [0..255] for integers).\n",
      "Clipping input data to the valid range for imshow with RGB data ([0..1] for floats or [0..255] for integers).\n",
      "Clipping input data to the valid range for imshow with RGB data ([0..1] for floats or [0..255] for integers).\n",
      "Clipping input data to the valid range for imshow with RGB data ([0..1] for floats or [0..255] for integers).\n",
      "Clipping input data to the valid range for imshow with RGB data ([0..1] for floats or [0..255] for integers).\n",
      "Clipping input data to the valid range for imshow with RGB data ([0..1] for floats or [0..255] for integers).\n",
      "Clipping input data to the valid range for imshow with RGB data ([0..1] for floats or [0..255] for integers).\n"
     ]
    },
    {
     "name": "stdout",
     "output_type": "stream",
     "text": [
      "90 [D loss: 0.655019, acc.: 59.67%] [G loss: 0.849652]\n",
      "91 [D loss: 0.657955, acc.: 60.77%] [G loss: 0.880051]\n",
      "92 [D loss: 0.637193, acc.: 63.26%] [G loss: 0.857127]\n",
      "93 [D loss: 0.652575, acc.: 62.15%] [G loss: 0.849509]\n",
      "94 [D loss: 0.635007, acc.: 64.36%] [G loss: 0.871924]\n",
      "95 [D loss: 0.701316, acc.: 50.55%] [G loss: 0.742650]\n",
      "96 [D loss: 0.677179, acc.: 52.76%] [G loss: 0.782490]\n",
      "97 [D loss: 0.616165, acc.: 67.68%] [G loss: 0.876747]\n",
      "98 [D loss: 0.610322, acc.: 66.57%] [G loss: 0.850913]\n",
      "99 [D loss: 0.647017, acc.: 62.15%] [G loss: 0.859224]\n"
     ]
    },
    {
     "name": "stderr",
     "output_type": "stream",
     "text": [
      "Clipping input data to the valid range for imshow with RGB data ([0..1] for floats or [0..255] for integers).\n",
      "Clipping input data to the valid range for imshow with RGB data ([0..1] for floats or [0..255] for integers).\n",
      "Clipping input data to the valid range for imshow with RGB data ([0..1] for floats or [0..255] for integers).\n",
      "Clipping input data to the valid range for imshow with RGB data ([0..1] for floats or [0..255] for integers).\n",
      "Clipping input data to the valid range for imshow with RGB data ([0..1] for floats or [0..255] for integers).\n",
      "Clipping input data to the valid range for imshow with RGB data ([0..1] for floats or [0..255] for integers).\n",
      "Clipping input data to the valid range for imshow with RGB data ([0..1] for floats or [0..255] for integers).\n",
      "Clipping input data to the valid range for imshow with RGB data ([0..1] for floats or [0..255] for integers).\n"
     ]
    },
    {
     "name": "stdout",
     "output_type": "stream",
     "text": [
      "100 [D loss: 0.634004, acc.: 61.88%] [G loss: 0.888939]\n",
      "101 [D loss: 0.629996, acc.: 64.36%] [G loss: 0.904022]\n",
      "102 [D loss: 0.687998, acc.: 55.52%] [G loss: 0.980400]\n",
      "103 [D loss: 0.653582, acc.: 62.43%] [G loss: 0.799836]\n",
      "104 [D loss: 0.636019, acc.: 66.02%] [G loss: 0.849472]\n",
      "105 [D loss: 0.620711, acc.: 64.92%] [G loss: 0.947022]\n",
      "106 [D loss: 0.676107, acc.: 56.91%] [G loss: 0.896956]\n",
      "107 [D loss: 0.645852, acc.: 59.94%] [G loss: 0.934987]\n",
      "108 [D loss: 0.628161, acc.: 62.71%] [G loss: 0.956247]\n",
      "109 [D loss: 0.651279, acc.: 60.50%] [G loss: 0.889357]\n"
     ]
    },
    {
     "name": "stderr",
     "output_type": "stream",
     "text": [
      "Clipping input data to the valid range for imshow with RGB data ([0..1] for floats or [0..255] for integers).\n",
      "Clipping input data to the valid range for imshow with RGB data ([0..1] for floats or [0..255] for integers).\n",
      "Clipping input data to the valid range for imshow with RGB data ([0..1] for floats or [0..255] for integers).\n",
      "Clipping input data to the valid range for imshow with RGB data ([0..1] for floats or [0..255] for integers).\n",
      "Clipping input data to the valid range for imshow with RGB data ([0..1] for floats or [0..255] for integers).\n",
      "Clipping input data to the valid range for imshow with RGB data ([0..1] for floats or [0..255] for integers).\n",
      "Clipping input data to the valid range for imshow with RGB data ([0..1] for floats or [0..255] for integers).\n",
      "Clipping input data to the valid range for imshow with RGB data ([0..1] for floats or [0..255] for integers).\n"
     ]
    },
    {
     "name": "stdout",
     "output_type": "stream",
     "text": [
      "110 [D loss: 0.660995, acc.: 61.05%] [G loss: 0.800094]\n",
      "111 [D loss: 0.684682, acc.: 60.22%] [G loss: 0.964444]\n",
      "112 [D loss: 0.593593, acc.: 66.02%] [G loss: 1.050791]\n",
      "113 [D loss: 0.673148, acc.: 60.77%] [G loss: 0.906976]\n",
      "114 [D loss: 0.642466, acc.: 61.33%] [G loss: 0.919363]\n",
      "115 [D loss: 0.642016, acc.: 61.88%] [G loss: 0.933554]\n",
      "116 [D loss: 0.664890, acc.: 60.22%] [G loss: 0.842076]\n",
      "117 [D loss: 0.607301, acc.: 64.92%] [G loss: 1.013052]\n",
      "118 [D loss: 0.635696, acc.: 63.54%] [G loss: 0.973772]\n",
      "119 [D loss: 0.585321, acc.: 67.96%] [G loss: 0.965032]\n"
     ]
    },
    {
     "name": "stderr",
     "output_type": "stream",
     "text": [
      "Clipping input data to the valid range for imshow with RGB data ([0..1] for floats or [0..255] for integers).\n",
      "Clipping input data to the valid range for imshow with RGB data ([0..1] for floats or [0..255] for integers).\n",
      "Clipping input data to the valid range for imshow with RGB data ([0..1] for floats or [0..255] for integers).\n",
      "Clipping input data to the valid range for imshow with RGB data ([0..1] for floats or [0..255] for integers).\n",
      "Clipping input data to the valid range for imshow with RGB data ([0..1] for floats or [0..255] for integers).\n",
      "Clipping input data to the valid range for imshow with RGB data ([0..1] for floats or [0..255] for integers).\n",
      "Clipping input data to the valid range for imshow with RGB data ([0..1] for floats or [0..255] for integers).\n",
      "Clipping input data to the valid range for imshow with RGB data ([0..1] for floats or [0..255] for integers).\n"
     ]
    },
    {
     "name": "stdout",
     "output_type": "stream",
     "text": [
      "120 [D loss: 0.635749, acc.: 60.77%] [G loss: 0.949972]\n",
      "121 [D loss: 0.625484, acc.: 61.60%] [G loss: 0.983975]\n",
      "122 [D loss: 0.578867, acc.: 69.61%] [G loss: 0.959098]\n",
      "123 [D loss: 0.749728, acc.: 52.76%] [G loss: 0.996589]\n",
      "124 [D loss: 0.641397, acc.: 65.47%] [G loss: 0.904947]\n",
      "125 [D loss: 0.611023, acc.: 65.75%] [G loss: 0.881823]\n",
      "126 [D loss: 0.646908, acc.: 65.75%] [G loss: 1.005688]\n",
      "127 [D loss: 0.678798, acc.: 61.05%] [G loss: 0.951878]\n",
      "128 [D loss: 0.680303, acc.: 61.88%] [G loss: 0.890795]\n",
      "129 [D loss: 0.625613, acc.: 64.36%] [G loss: 0.920036]\n"
     ]
    },
    {
     "name": "stderr",
     "output_type": "stream",
     "text": [
      "Clipping input data to the valid range for imshow with RGB data ([0..1] for floats or [0..255] for integers).\n",
      "Clipping input data to the valid range for imshow with RGB data ([0..1] for floats or [0..255] for integers).\n",
      "Clipping input data to the valid range for imshow with RGB data ([0..1] for floats or [0..255] for integers).\n",
      "Clipping input data to the valid range for imshow with RGB data ([0..1] for floats or [0..255] for integers).\n",
      "Clipping input data to the valid range for imshow with RGB data ([0..1] for floats or [0..255] for integers).\n",
      "Clipping input data to the valid range for imshow with RGB data ([0..1] for floats or [0..255] for integers).\n",
      "Clipping input data to the valid range for imshow with RGB data ([0..1] for floats or [0..255] for integers).\n",
      "Clipping input data to the valid range for imshow with RGB data ([0..1] for floats or [0..255] for integers).\n"
     ]
    },
    {
     "name": "stdout",
     "output_type": "stream",
     "text": [
      "130 [D loss: 0.630512, acc.: 64.09%] [G loss: 0.993391]\n",
      "131 [D loss: 0.629602, acc.: 63.26%] [G loss: 0.900498]\n",
      "132 [D loss: 0.580370, acc.: 69.34%] [G loss: 1.044221]\n",
      "133 [D loss: 0.629831, acc.: 61.88%] [G loss: 1.016855]\n",
      "134 [D loss: 0.639207, acc.: 65.47%] [G loss: 0.966372]\n",
      "135 [D loss: 0.660680, acc.: 61.60%] [G loss: 0.909436]\n",
      "136 [D loss: 0.612135, acc.: 66.85%] [G loss: 0.968621]\n",
      "137 [D loss: 0.630026, acc.: 62.15%] [G loss: 1.004499]\n",
      "138 [D loss: 0.553481, acc.: 72.38%] [G loss: 0.943658]\n",
      "139 [D loss: 0.614945, acc.: 64.64%] [G loss: 1.040374]\n"
     ]
    },
    {
     "name": "stderr",
     "output_type": "stream",
     "text": [
      "Clipping input data to the valid range for imshow with RGB data ([0..1] for floats or [0..255] for integers).\n",
      "Clipping input data to the valid range for imshow with RGB data ([0..1] for floats or [0..255] for integers).\n",
      "Clipping input data to the valid range for imshow with RGB data ([0..1] for floats or [0..255] for integers).\n",
      "Clipping input data to the valid range for imshow with RGB data ([0..1] for floats or [0..255] for integers).\n",
      "Clipping input data to the valid range for imshow with RGB data ([0..1] for floats or [0..255] for integers).\n",
      "Clipping input data to the valid range for imshow with RGB data ([0..1] for floats or [0..255] for integers).\n",
      "Clipping input data to the valid range for imshow with RGB data ([0..1] for floats or [0..255] for integers).\n",
      "Clipping input data to the valid range for imshow with RGB data ([0..1] for floats or [0..255] for integers).\n"
     ]
    },
    {
     "name": "stdout",
     "output_type": "stream",
     "text": [
      "140 [D loss: 0.629079, acc.: 60.77%] [G loss: 0.959601]\n",
      "141 [D loss: 0.624755, acc.: 66.30%] [G loss: 1.003430]\n",
      "142 [D loss: 0.649316, acc.: 62.71%] [G loss: 0.953068]\n",
      "143 [D loss: 0.614538, acc.: 65.47%] [G loss: 0.969418]\n",
      "144 [D loss: 0.656375, acc.: 58.56%] [G loss: 0.935466]\n",
      "145 [D loss: 0.647003, acc.: 58.84%] [G loss: 0.995847]\n",
      "146 [D loss: 0.589308, acc.: 67.68%] [G loss: 0.997734]\n",
      "147 [D loss: 0.614050, acc.: 65.19%] [G loss: 1.083973]\n",
      "148 [D loss: 0.606502, acc.: 66.57%] [G loss: 0.958559]\n",
      "149 [D loss: 0.608114, acc.: 63.81%] [G loss: 0.986192]\n"
     ]
    },
    {
     "name": "stderr",
     "output_type": "stream",
     "text": [
      "Clipping input data to the valid range for imshow with RGB data ([0..1] for floats or [0..255] for integers).\n",
      "Clipping input data to the valid range for imshow with RGB data ([0..1] for floats or [0..255] for integers).\n",
      "Clipping input data to the valid range for imshow with RGB data ([0..1] for floats or [0..255] for integers).\n",
      "Clipping input data to the valid range for imshow with RGB data ([0..1] for floats or [0..255] for integers).\n",
      "Clipping input data to the valid range for imshow with RGB data ([0..1] for floats or [0..255] for integers).\n",
      "Clipping input data to the valid range for imshow with RGB data ([0..1] for floats or [0..255] for integers).\n",
      "Clipping input data to the valid range for imshow with RGB data ([0..1] for floats or [0..255] for integers).\n",
      "Clipping input data to the valid range for imshow with RGB data ([0..1] for floats or [0..255] for integers).\n"
     ]
    },
    {
     "name": "stdout",
     "output_type": "stream",
     "text": [
      "150 [D loss: 0.632674, acc.: 64.92%] [G loss: 1.031644]\n",
      "151 [D loss: 0.590363, acc.: 69.06%] [G loss: 1.057406]\n",
      "152 [D loss: 0.640770, acc.: 62.43%] [G loss: 1.046852]\n",
      "153 [D loss: 0.587394, acc.: 69.34%] [G loss: 1.178558]\n",
      "154 [D loss: 0.636565, acc.: 65.19%] [G loss: 0.988051]\n",
      "155 [D loss: 0.585959, acc.: 68.23%] [G loss: 1.050497]\n",
      "156 [D loss: 0.581920, acc.: 68.51%] [G loss: 1.092102]\n",
      "157 [D loss: 0.575505, acc.: 69.89%] [G loss: 1.186623]\n",
      "158 [D loss: 0.562271, acc.: 70.99%] [G loss: 1.036523]\n",
      "159 [D loss: 0.608152, acc.: 69.06%] [G loss: 1.166275]\n"
     ]
    },
    {
     "name": "stderr",
     "output_type": "stream",
     "text": [
      "Clipping input data to the valid range for imshow with RGB data ([0..1] for floats or [0..255] for integers).\n",
      "Clipping input data to the valid range for imshow with RGB data ([0..1] for floats or [0..255] for integers).\n",
      "Clipping input data to the valid range for imshow with RGB data ([0..1] for floats or [0..255] for integers).\n",
      "Clipping input data to the valid range for imshow with RGB data ([0..1] for floats or [0..255] for integers).\n",
      "Clipping input data to the valid range for imshow with RGB data ([0..1] for floats or [0..255] for integers).\n"
     ]
    },
    {
     "name": "stdout",
     "output_type": "stream",
     "text": [
      "160 [D loss: 0.561931, acc.: 68.78%] [G loss: 1.072909]\n",
      "161 [D loss: 0.561791, acc.: 70.44%] [G loss: 1.126894]\n",
      "162 [D loss: 0.576666, acc.: 67.13%] [G loss: 1.118838]\n",
      "163 [D loss: 0.571662, acc.: 68.78%] [G loss: 1.143783]\n",
      "164 [D loss: 0.539689, acc.: 74.03%] [G loss: 1.136204]\n",
      "165 [D loss: 0.597954, acc.: 67.40%] [G loss: 1.098108]\n",
      "166 [D loss: 0.590073, acc.: 66.57%] [G loss: 1.064324]\n",
      "167 [D loss: 0.539037, acc.: 72.65%] [G loss: 1.117771]\n",
      "168 [D loss: 0.631366, acc.: 65.19%] [G loss: 1.023376]\n",
      "169 [D loss: 0.580263, acc.: 67.96%] [G loss: 1.156078]\n"
     ]
    },
    {
     "name": "stderr",
     "output_type": "stream",
     "text": [
      "Clipping input data to the valid range for imshow with RGB data ([0..1] for floats or [0..255] for integers).\n",
      "Clipping input data to the valid range for imshow with RGB data ([0..1] for floats or [0..255] for integers).\n",
      "Clipping input data to the valid range for imshow with RGB data ([0..1] for floats or [0..255] for integers).\n",
      "Clipping input data to the valid range for imshow with RGB data ([0..1] for floats or [0..255] for integers).\n",
      "Clipping input data to the valid range for imshow with RGB data ([0..1] for floats or [0..255] for integers).\n",
      "Clipping input data to the valid range for imshow with RGB data ([0..1] for floats or [0..255] for integers).\n",
      "Clipping input data to the valid range for imshow with RGB data ([0..1] for floats or [0..255] for integers).\n",
      "Clipping input data to the valid range for imshow with RGB data ([0..1] for floats or [0..255] for integers).\n"
     ]
    },
    {
     "name": "stdout",
     "output_type": "stream",
     "text": [
      "170 [D loss: 0.603159, acc.: 66.02%] [G loss: 1.074120]\n",
      "171 [D loss: 0.025119, acc.: 100.00%] [G loss: 7.941483]\n",
      "172 [D loss: 0.366513, acc.: 86.74%] [G loss: 7.197296]\n",
      "173 [D loss: 0.401985, acc.: 79.83%] [G loss: 2.160120]\n",
      "174 [D loss: 0.377899, acc.: 80.66%] [G loss: 2.254194]\n",
      "175 [D loss: 0.255384, acc.: 89.50%] [G loss: 2.779908]\n",
      "176 [D loss: 0.291706, acc.: 87.29%] [G loss: 2.518066]\n",
      "177 [D loss: 0.270992, acc.: 88.67%] [G loss: 2.871581]\n",
      "178 [D loss: 0.309166, acc.: 86.46%] [G loss: 2.899389]\n",
      "179 [D loss: 0.220386, acc.: 91.71%] [G loss: 3.039948]\n"
     ]
    },
    {
     "name": "stderr",
     "output_type": "stream",
     "text": [
      "Clipping input data to the valid range for imshow with RGB data ([0..1] for floats or [0..255] for integers).\n",
      "Clipping input data to the valid range for imshow with RGB data ([0..1] for floats or [0..255] for integers).\n",
      "Clipping input data to the valid range for imshow with RGB data ([0..1] for floats or [0..255] for integers).\n",
      "Clipping input data to the valid range for imshow with RGB data ([0..1] for floats or [0..255] for integers).\n",
      "Clipping input data to the valid range for imshow with RGB data ([0..1] for floats or [0..255] for integers).\n",
      "Clipping input data to the valid range for imshow with RGB data ([0..1] for floats or [0..255] for integers).\n",
      "Clipping input data to the valid range for imshow with RGB data ([0..1] for floats or [0..255] for integers).\n"
     ]
    },
    {
     "name": "stdout",
     "output_type": "stream",
     "text": [
      "180 [D loss: 0.243566, acc.: 91.16%] [G loss: 2.887277]\n",
      "181 [D loss: 0.302756, acc.: 87.02%] [G loss: 2.870916]\n",
      "182 [D loss: 0.495451, acc.: 78.45%] [G loss: 2.535599]\n",
      "183 [D loss: 0.281944, acc.: 87.29%] [G loss: 2.847472]\n",
      "184 [D loss: 0.281207, acc.: 88.67%] [G loss: 2.893631]\n",
      "185 [D loss: 0.278031, acc.: 88.67%] [G loss: 3.157504]\n",
      "186 [D loss: 0.334281, acc.: 84.81%] [G loss: 2.854066]\n",
      "187 [D loss: 0.280687, acc.: 88.67%] [G loss: 2.855004]\n",
      "188 [D loss: 0.233010, acc.: 91.99%] [G loss: 2.966409]\n",
      "189 [D loss: 0.317565, acc.: 84.53%] [G loss: 2.739011]\n"
     ]
    },
    {
     "name": "stderr",
     "output_type": "stream",
     "text": [
      "Clipping input data to the valid range for imshow with RGB data ([0..1] for floats or [0..255] for integers).\n",
      "Clipping input data to the valid range for imshow with RGB data ([0..1] for floats or [0..255] for integers).\n",
      "Clipping input data to the valid range for imshow with RGB data ([0..1] for floats or [0..255] for integers).\n",
      "Clipping input data to the valid range for imshow with RGB data ([0..1] for floats or [0..255] for integers).\n",
      "Clipping input data to the valid range for imshow with RGB data ([0..1] for floats or [0..255] for integers).\n",
      "Clipping input data to the valid range for imshow with RGB data ([0..1] for floats or [0..255] for integers).\n",
      "Clipping input data to the valid range for imshow with RGB data ([0..1] for floats or [0..255] for integers).\n"
     ]
    },
    {
     "name": "stdout",
     "output_type": "stream",
     "text": [
      "190 [D loss: 0.307384, acc.: 87.29%] [G loss: 2.622119]\n",
      "191 [D loss: 0.484408, acc.: 76.80%] [G loss: 2.261152]\n",
      "192 [D loss: 0.361047, acc.: 81.77%] [G loss: 2.533048]\n",
      "193 [D loss: 0.313476, acc.: 87.85%] [G loss: 2.419787]\n",
      "194 [D loss: 0.363014, acc.: 83.15%] [G loss: 2.353032]\n",
      "195 [D loss: 0.347930, acc.: 84.25%] [G loss: 2.544442]\n",
      "196 [D loss: 0.287370, acc.: 87.57%] [G loss: 2.497968]\n",
      "197 [D loss: 0.400594, acc.: 80.39%] [G loss: 2.363510]\n",
      "198 [D loss: 0.381681, acc.: 82.32%] [G loss: 2.330383]\n",
      "199 [D loss: 0.310923, acc.: 86.46%] [G loss: 2.217624]\n"
     ]
    },
    {
     "name": "stderr",
     "output_type": "stream",
     "text": [
      "Clipping input data to the valid range for imshow with RGB data ([0..1] for floats or [0..255] for integers).\n",
      "Clipping input data to the valid range for imshow with RGB data ([0..1] for floats or [0..255] for integers).\n",
      "Clipping input data to the valid range for imshow with RGB data ([0..1] for floats or [0..255] for integers).\n",
      "Clipping input data to the valid range for imshow with RGB data ([0..1] for floats or [0..255] for integers).\n",
      "Clipping input data to the valid range for imshow with RGB data ([0..1] for floats or [0..255] for integers).\n"
     ]
    },
    {
     "name": "stdout",
     "output_type": "stream",
     "text": [
      "200 [D loss: 0.364150, acc.: 81.49%] [G loss: 2.256173]\n",
      "201 [D loss: 0.363918, acc.: 83.15%] [G loss: 2.321195]\n",
      "202 [D loss: 0.379424, acc.: 81.49%] [G loss: 2.252779]\n",
      "203 [D loss: 0.441400, acc.: 79.01%] [G loss: 2.066760]\n",
      "204 [D loss: 0.367847, acc.: 85.36%] [G loss: 2.296616]\n",
      "205 [D loss: 0.374912, acc.: 83.98%] [G loss: 2.273174]\n",
      "206 [D loss: 0.410048, acc.: 83.70%] [G loss: 2.133402]\n",
      "207 [D loss: 0.351134, acc.: 85.91%] [G loss: 1.987187]\n",
      "208 [D loss: 0.373013, acc.: 82.32%] [G loss: 2.332015]\n",
      "209 [D loss: 0.428028, acc.: 80.94%] [G loss: 1.998398]\n"
     ]
    },
    {
     "name": "stderr",
     "output_type": "stream",
     "text": [
      "Clipping input data to the valid range for imshow with RGB data ([0..1] for floats or [0..255] for integers).\n",
      "Clipping input data to the valid range for imshow with RGB data ([0..1] for floats or [0..255] for integers).\n",
      "Clipping input data to the valid range for imshow with RGB data ([0..1] for floats or [0..255] for integers).\n",
      "Clipping input data to the valid range for imshow with RGB data ([0..1] for floats or [0..255] for integers).\n",
      "Clipping input data to the valid range for imshow with RGB data ([0..1] for floats or [0..255] for integers).\n",
      "Clipping input data to the valid range for imshow with RGB data ([0..1] for floats or [0..255] for integers).\n",
      "Clipping input data to the valid range for imshow with RGB data ([0..1] for floats or [0..255] for integers).\n",
      "Clipping input data to the valid range for imshow with RGB data ([0..1] for floats or [0..255] for integers).\n"
     ]
    },
    {
     "name": "stdout",
     "output_type": "stream",
     "text": [
      "210 [D loss: 0.389663, acc.: 82.32%] [G loss: 2.126454]\n",
      "211 [D loss: 0.419520, acc.: 80.94%] [G loss: 1.983508]\n",
      "212 [D loss: 0.404762, acc.: 81.77%] [G loss: 1.857922]\n",
      "213 [D loss: 0.472415, acc.: 78.18%] [G loss: 1.756735]\n",
      "214 [D loss: 0.417281, acc.: 80.66%] [G loss: 1.935652]\n",
      "215 [D loss: 0.471833, acc.: 77.90%] [G loss: 1.960884]\n",
      "216 [D loss: 0.493379, acc.: 74.31%] [G loss: 1.752603]\n",
      "217 [D loss: 0.453626, acc.: 80.94%] [G loss: 1.747882]\n",
      "218 [D loss: 0.432496, acc.: 77.90%] [G loss: 1.761839]\n",
      "219 [D loss: 0.472848, acc.: 78.18%] [G loss: 1.880712]\n"
     ]
    },
    {
     "name": "stderr",
     "output_type": "stream",
     "text": [
      "Clipping input data to the valid range for imshow with RGB data ([0..1] for floats or [0..255] for integers).\n",
      "Clipping input data to the valid range for imshow with RGB data ([0..1] for floats or [0..255] for integers).\n",
      "Clipping input data to the valid range for imshow with RGB data ([0..1] for floats or [0..255] for integers).\n",
      "Clipping input data to the valid range for imshow with RGB data ([0..1] for floats or [0..255] for integers).\n",
      "Clipping input data to the valid range for imshow with RGB data ([0..1] for floats or [0..255] for integers).\n",
      "Clipping input data to the valid range for imshow with RGB data ([0..1] for floats or [0..255] for integers).\n"
     ]
    },
    {
     "name": "stdout",
     "output_type": "stream",
     "text": [
      "220 [D loss: 0.474228, acc.: 76.24%] [G loss: 1.680739]\n",
      "221 [D loss: 0.420571, acc.: 80.66%] [G loss: 1.825762]\n",
      "222 [D loss: 0.467616, acc.: 77.07%] [G loss: 1.798779]\n",
      "223 [D loss: 0.503525, acc.: 75.14%] [G loss: 1.695236]\n",
      "224 [D loss: 0.486827, acc.: 77.35%] [G loss: 1.756759]\n",
      "225 [D loss: 0.482154, acc.: 77.62%] [G loss: 1.636984]\n",
      "226 [D loss: 0.440226, acc.: 80.11%] [G loss: 1.598266]\n",
      "227 [D loss: 0.685021, acc.: 64.36%] [G loss: 1.598434]\n",
      "228 [D loss: 0.490919, acc.: 76.80%] [G loss: 1.669342]\n",
      "229 [D loss: 0.431988, acc.: 82.04%] [G loss: 1.647078]\n"
     ]
    },
    {
     "name": "stderr",
     "output_type": "stream",
     "text": [
      "Clipping input data to the valid range for imshow with RGB data ([0..1] for floats or [0..255] for integers).\n",
      "Clipping input data to the valid range for imshow with RGB data ([0..1] for floats or [0..255] for integers).\n",
      "Clipping input data to the valid range for imshow with RGB data ([0..1] for floats or [0..255] for integers).\n",
      "Clipping input data to the valid range for imshow with RGB data ([0..1] for floats or [0..255] for integers).\n",
      "Clipping input data to the valid range for imshow with RGB data ([0..1] for floats or [0..255] for integers).\n",
      "Clipping input data to the valid range for imshow with RGB data ([0..1] for floats or [0..255] for integers).\n",
      "Clipping input data to the valid range for imshow with RGB data ([0..1] for floats or [0..255] for integers).\n",
      "Clipping input data to the valid range for imshow with RGB data ([0..1] for floats or [0..255] for integers).\n"
     ]
    },
    {
     "name": "stdout",
     "output_type": "stream",
     "text": [
      "230 [D loss: 0.465962, acc.: 77.62%] [G loss: 1.610271]\n",
      "231 [D loss: 0.496299, acc.: 75.41%] [G loss: 1.780741]\n",
      "232 [D loss: 0.461564, acc.: 76.24%] [G loss: 1.578299]\n",
      "233 [D loss: 0.498506, acc.: 79.28%] [G loss: 1.485110]\n",
      "234 [D loss: 0.497437, acc.: 74.31%] [G loss: 1.562832]\n",
      "235 [D loss: 0.488281, acc.: 75.41%] [G loss: 1.485798]\n",
      "236 [D loss: 0.457056, acc.: 79.83%] [G loss: 1.587128]\n",
      "237 [D loss: 0.487994, acc.: 77.35%] [G loss: 1.544691]\n",
      "238 [D loss: 0.485363, acc.: 75.14%] [G loss: 1.549582]\n",
      "239 [D loss: 0.478605, acc.: 78.73%] [G loss: 1.584482]\n"
     ]
    },
    {
     "name": "stderr",
     "output_type": "stream",
     "text": [
      "Clipping input data to the valid range for imshow with RGB data ([0..1] for floats or [0..255] for integers).\n",
      "Clipping input data to the valid range for imshow with RGB data ([0..1] for floats or [0..255] for integers).\n",
      "Clipping input data to the valid range for imshow with RGB data ([0..1] for floats or [0..255] for integers).\n",
      "Clipping input data to the valid range for imshow with RGB data ([0..1] for floats or [0..255] for integers).\n",
      "Clipping input data to the valid range for imshow with RGB data ([0..1] for floats or [0..255] for integers).\n"
     ]
    },
    {
     "name": "stdout",
     "output_type": "stream",
     "text": [
      "240 [D loss: 0.474627, acc.: 77.35%] [G loss: 1.687724]\n",
      "241 [D loss: 0.521135, acc.: 72.93%] [G loss: 1.423464]\n",
      "242 [D loss: 0.473785, acc.: 77.90%] [G loss: 1.549454]\n",
      "243 [D loss: 0.514071, acc.: 74.59%] [G loss: 1.381888]\n",
      "244 [D loss: 0.418027, acc.: 81.22%] [G loss: 1.605144]\n",
      "245 [D loss: 0.507181, acc.: 74.59%] [G loss: 1.474420]\n",
      "246 [D loss: 0.461006, acc.: 77.62%] [G loss: 1.476312]\n",
      "247 [D loss: 0.525296, acc.: 74.59%] [G loss: 1.502685]\n",
      "248 [D loss: 0.462070, acc.: 80.39%] [G loss: 1.502125]\n",
      "249 [D loss: 0.542458, acc.: 70.72%] [G loss: 1.444984]\n"
     ]
    },
    {
     "name": "stderr",
     "output_type": "stream",
     "text": [
      "Clipping input data to the valid range for imshow with RGB data ([0..1] for floats or [0..255] for integers).\n",
      "Clipping input data to the valid range for imshow with RGB data ([0..1] for floats or [0..255] for integers).\n",
      "Clipping input data to the valid range for imshow with RGB data ([0..1] for floats or [0..255] for integers).\n",
      "Clipping input data to the valid range for imshow with RGB data ([0..1] for floats or [0..255] for integers).\n",
      "Clipping input data to the valid range for imshow with RGB data ([0..1] for floats or [0..255] for integers).\n",
      "Clipping input data to the valid range for imshow with RGB data ([0..1] for floats or [0..255] for integers).\n",
      "Clipping input data to the valid range for imshow with RGB data ([0..1] for floats or [0..255] for integers).\n"
     ]
    },
    {
     "name": "stdout",
     "output_type": "stream",
     "text": [
      "250 [D loss: 0.557824, acc.: 71.27%] [G loss: 1.440093]\n",
      "251 [D loss: 0.523664, acc.: 74.59%] [G loss: 1.399501]\n",
      "252 [D loss: 0.491748, acc.: 74.86%] [G loss: 1.410381]\n",
      "253 [D loss: 0.552406, acc.: 70.72%] [G loss: 1.301257]\n",
      "254 [D loss: 0.445446, acc.: 79.56%] [G loss: 1.638936]\n",
      "255 [D loss: 0.521558, acc.: 73.48%] [G loss: 1.448484]\n",
      "256 [D loss: 0.452141, acc.: 77.07%] [G loss: 1.537559]\n",
      "257 [D loss: 0.471287, acc.: 79.01%] [G loss: 1.506189]\n",
      "258 [D loss: 0.507278, acc.: 75.69%] [G loss: 1.388363]\n",
      "259 [D loss: 0.549898, acc.: 73.76%] [G loss: 1.378520]\n"
     ]
    },
    {
     "name": "stderr",
     "output_type": "stream",
     "text": [
      "Clipping input data to the valid range for imshow with RGB data ([0..1] for floats or [0..255] for integers).\n",
      "Clipping input data to the valid range for imshow with RGB data ([0..1] for floats or [0..255] for integers).\n",
      "Clipping input data to the valid range for imshow with RGB data ([0..1] for floats or [0..255] for integers).\n",
      "Clipping input data to the valid range for imshow with RGB data ([0..1] for floats or [0..255] for integers).\n",
      "Clipping input data to the valid range for imshow with RGB data ([0..1] for floats or [0..255] for integers).\n",
      "Clipping input data to the valid range for imshow with RGB data ([0..1] for floats or [0..255] for integers).\n",
      "Clipping input data to the valid range for imshow with RGB data ([0..1] for floats or [0..255] for integers).\n",
      "Clipping input data to the valid range for imshow with RGB data ([0..1] for floats or [0..255] for integers).\n"
     ]
    },
    {
     "name": "stdout",
     "output_type": "stream",
     "text": [
      "260 [D loss: 0.579040, acc.: 68.23%] [G loss: 1.288308]\n",
      "261 [D loss: 0.489118, acc.: 76.80%] [G loss: 1.292184]\n",
      "262 [D loss: 0.550875, acc.: 70.99%] [G loss: 1.316677]\n",
      "263 [D loss: 0.549835, acc.: 69.89%] [G loss: 1.206421]\n",
      "264 [D loss: 0.555427, acc.: 70.17%] [G loss: 1.313086]\n",
      "265 [D loss: 0.520763, acc.: 75.14%] [G loss: 1.375234]\n",
      "266 [D loss: 0.537289, acc.: 74.59%] [G loss: 1.359901]\n",
      "267 [D loss: 0.460024, acc.: 79.01%] [G loss: 1.510881]\n",
      "268 [D loss: 0.502002, acc.: 77.35%] [G loss: 1.303179]\n",
      "269 [D loss: 0.513012, acc.: 75.69%] [G loss: 1.316336]\n"
     ]
    },
    {
     "name": "stderr",
     "output_type": "stream",
     "text": [
      "Clipping input data to the valid range for imshow with RGB data ([0..1] for floats or [0..255] for integers).\n",
      "Clipping input data to the valid range for imshow with RGB data ([0..1] for floats or [0..255] for integers).\n",
      "Clipping input data to the valid range for imshow with RGB data ([0..1] for floats or [0..255] for integers).\n",
      "Clipping input data to the valid range for imshow with RGB data ([0..1] for floats or [0..255] for integers).\n",
      "Clipping input data to the valid range for imshow with RGB data ([0..1] for floats or [0..255] for integers).\n",
      "Clipping input data to the valid range for imshow with RGB data ([0..1] for floats or [0..255] for integers).\n"
     ]
    },
    {
     "name": "stdout",
     "output_type": "stream",
     "text": [
      "270 [D loss: 0.534949, acc.: 73.20%] [G loss: 1.378457]\n",
      "271 [D loss: 0.484966, acc.: 76.52%] [G loss: 1.431021]\n",
      "272 [D loss: 0.504215, acc.: 75.97%] [G loss: 1.337501]\n",
      "273 [D loss: 0.560401, acc.: 71.55%] [G loss: 1.253346]\n",
      "274 [D loss: 0.480160, acc.: 76.80%] [G loss: 1.362243]\n",
      "275 [D loss: 0.519200, acc.: 68.23%] [G loss: 1.377921]\n",
      "276 [D loss: 0.493795, acc.: 76.80%] [G loss: 1.330404]\n",
      "277 [D loss: 0.536280, acc.: 74.59%] [G loss: 1.292407]\n",
      "278 [D loss: 0.500143, acc.: 75.69%] [G loss: 1.287116]\n",
      "279 [D loss: 0.484217, acc.: 77.07%] [G loss: 1.404275]\n"
     ]
    },
    {
     "name": "stderr",
     "output_type": "stream",
     "text": [
      "Clipping input data to the valid range for imshow with RGB data ([0..1] for floats or [0..255] for integers).\n",
      "Clipping input data to the valid range for imshow with RGB data ([0..1] for floats or [0..255] for integers).\n",
      "Clipping input data to the valid range for imshow with RGB data ([0..1] for floats or [0..255] for integers).\n",
      "Clipping input data to the valid range for imshow with RGB data ([0..1] for floats or [0..255] for integers).\n",
      "Clipping input data to the valid range for imshow with RGB data ([0..1] for floats or [0..255] for integers).\n",
      "Clipping input data to the valid range for imshow with RGB data ([0..1] for floats or [0..255] for integers).\n",
      "Clipping input data to the valid range for imshow with RGB data ([0..1] for floats or [0..255] for integers).\n"
     ]
    },
    {
     "name": "stdout",
     "output_type": "stream",
     "text": [
      "280 [D loss: 0.535771, acc.: 72.10%] [G loss: 1.339491]\n",
      "281 [D loss: 0.565586, acc.: 71.55%] [G loss: 1.198918]\n",
      "282 [D loss: 0.462135, acc.: 76.24%] [G loss: 1.615093]\n",
      "283 [D loss: 0.511482, acc.: 74.59%] [G loss: 1.284738]\n",
      "284 [D loss: 0.512318, acc.: 72.65%] [G loss: 1.296097]\n",
      "285 [D loss: 0.492298, acc.: 73.76%] [G loss: 1.363813]\n",
      "286 [D loss: 0.528772, acc.: 73.20%] [G loss: 1.368566]\n",
      "287 [D loss: 0.465140, acc.: 80.11%] [G loss: 1.564427]\n",
      "288 [D loss: 0.395109, acc.: 83.70%] [G loss: 1.501339]\n",
      "289 [D loss: 0.473879, acc.: 76.52%] [G loss: 1.351683]\n"
     ]
    },
    {
     "name": "stderr",
     "output_type": "stream",
     "text": [
      "Clipping input data to the valid range for imshow with RGB data ([0..1] for floats or [0..255] for integers).\n",
      "Clipping input data to the valid range for imshow with RGB data ([0..1] for floats or [0..255] for integers).\n",
      "Clipping input data to the valid range for imshow with RGB data ([0..1] for floats or [0..255] for integers).\n",
      "Clipping input data to the valid range for imshow with RGB data ([0..1] for floats or [0..255] for integers).\n",
      "Clipping input data to the valid range for imshow with RGB data ([0..1] for floats or [0..255] for integers).\n",
      "Clipping input data to the valid range for imshow with RGB data ([0..1] for floats or [0..255] for integers).\n",
      "Clipping input data to the valid range for imshow with RGB data ([0..1] for floats or [0..255] for integers).\n",
      "Clipping input data to the valid range for imshow with RGB data ([0..1] for floats or [0..255] for integers).\n"
     ]
    },
    {
     "name": "stdout",
     "output_type": "stream",
     "text": [
      "290 [D loss: 0.502333, acc.: 72.93%] [G loss: 1.425421]\n",
      "291 [D loss: 0.502235, acc.: 77.07%] [G loss: 1.461070]\n",
      "292 [D loss: 0.546748, acc.: 72.65%] [G loss: 1.360346]\n",
      "293 [D loss: 0.534795, acc.: 72.65%] [G loss: 1.244014]\n",
      "294 [D loss: 0.561506, acc.: 72.65%] [G loss: 1.520454]\n",
      "295 [D loss: 0.576283, acc.: 72.10%] [G loss: 1.490222]\n",
      "296 [D loss: 0.520729, acc.: 74.86%] [G loss: 1.370052]\n",
      "297 [D loss: 0.530863, acc.: 74.03%] [G loss: 1.416585]\n",
      "298 [D loss: 0.500366, acc.: 74.86%] [G loss: 1.372741]\n",
      "299 [D loss: 0.495045, acc.: 75.69%] [G loss: 1.496029]\n"
     ]
    },
    {
     "name": "stderr",
     "output_type": "stream",
     "text": [
      "Clipping input data to the valid range for imshow with RGB data ([0..1] for floats or [0..255] for integers).\n",
      "Clipping input data to the valid range for imshow with RGB data ([0..1] for floats or [0..255] for integers).\n",
      "Clipping input data to the valid range for imshow with RGB data ([0..1] for floats or [0..255] for integers).\n",
      "Clipping input data to the valid range for imshow with RGB data ([0..1] for floats or [0..255] for integers).\n",
      "Clipping input data to the valid range for imshow with RGB data ([0..1] for floats or [0..255] for integers).\n",
      "Clipping input data to the valid range for imshow with RGB data ([0..1] for floats or [0..255] for integers).\n"
     ]
    },
    {
     "name": "stdout",
     "output_type": "stream",
     "text": [
      "300 [D loss: 0.698304, acc.: 68.78%] [G loss: 1.819743]\n",
      "301 [D loss: 0.525904, acc.: 72.38%] [G loss: 1.336577]\n",
      "302 [D loss: 0.573738, acc.: 70.72%] [G loss: 1.285295]\n",
      "303 [D loss: 0.487331, acc.: 76.52%] [G loss: 1.486660]\n",
      "304 [D loss: 0.517477, acc.: 71.82%] [G loss: 1.260249]\n",
      "305 [D loss: 0.537015, acc.: 73.20%] [G loss: 1.299461]\n",
      "306 [D loss: 0.486324, acc.: 77.07%] [G loss: 1.471215]\n",
      "307 [D loss: 0.471148, acc.: 80.11%] [G loss: 1.383094]\n",
      "308 [D loss: 0.571763, acc.: 70.99%] [G loss: 1.301075]\n",
      "309 [D loss: 0.571327, acc.: 71.82%] [G loss: 1.228719]\n"
     ]
    },
    {
     "name": "stderr",
     "output_type": "stream",
     "text": [
      "Clipping input data to the valid range for imshow with RGB data ([0..1] for floats or [0..255] for integers).\n",
      "Clipping input data to the valid range for imshow with RGB data ([0..1] for floats or [0..255] for integers).\n",
      "Clipping input data to the valid range for imshow with RGB data ([0..1] for floats or [0..255] for integers).\n",
      "Clipping input data to the valid range for imshow with RGB data ([0..1] for floats or [0..255] for integers).\n",
      "Clipping input data to the valid range for imshow with RGB data ([0..1] for floats or [0..255] for integers).\n",
      "Clipping input data to the valid range for imshow with RGB data ([0..1] for floats or [0..255] for integers).\n",
      "Clipping input data to the valid range for imshow with RGB data ([0..1] for floats or [0..255] for integers).\n",
      "Clipping input data to the valid range for imshow with RGB data ([0..1] for floats or [0..255] for integers).\n"
     ]
    },
    {
     "name": "stdout",
     "output_type": "stream",
     "text": [
      "310 [D loss: 0.513963, acc.: 75.14%] [G loss: 1.325169]\n",
      "311 [D loss: 0.588579, acc.: 71.27%] [G loss: 1.301864]\n",
      "312 [D loss: 0.517991, acc.: 74.59%] [G loss: 1.371958]\n",
      "313 [D loss: 0.554533, acc.: 73.48%] [G loss: 1.537547]\n",
      "314 [D loss: 0.500869, acc.: 74.31%] [G loss: 1.303285]\n",
      "315 [D loss: 0.589519, acc.: 69.61%] [G loss: 1.350655]\n",
      "316 [D loss: 0.443946, acc.: 80.11%] [G loss: 1.470691]\n",
      "317 [D loss: 0.481950, acc.: 76.52%] [G loss: 1.465286]\n",
      "318 [D loss: 0.583439, acc.: 70.99%] [G loss: 1.279223]\n",
      "319 [D loss: 0.597520, acc.: 66.02%] [G loss: 1.383100]\n"
     ]
    },
    {
     "name": "stderr",
     "output_type": "stream",
     "text": [
      "Clipping input data to the valid range for imshow with RGB data ([0..1] for floats or [0..255] for integers).\n",
      "Clipping input data to the valid range for imshow with RGB data ([0..1] for floats or [0..255] for integers).\n",
      "Clipping input data to the valid range for imshow with RGB data ([0..1] for floats or [0..255] for integers).\n",
      "Clipping input data to the valid range for imshow with RGB data ([0..1] for floats or [0..255] for integers).\n",
      "Clipping input data to the valid range for imshow with RGB data ([0..1] for floats or [0..255] for integers).\n",
      "Clipping input data to the valid range for imshow with RGB data ([0..1] for floats or [0..255] for integers).\n"
     ]
    },
    {
     "name": "stdout",
     "output_type": "stream",
     "text": [
      "320 [D loss: 0.486220, acc.: 75.97%] [G loss: 1.566962]\n"
     ]
    },
    {
     "name": "stderr",
     "output_type": "stream",
     "text": [
      "Clipping input data to the valid range for imshow with RGB data ([0..1] for floats or [0..255] for integers).\n",
      "Clipping input data to the valid range for imshow with RGB data ([0..1] for floats or [0..255] for integers).\n"
     ]
    },
    {
     "name": "stdout",
     "output_type": "stream",
     "text": [
      "321 [D loss: 0.491731, acc.: 75.97%] [G loss: 1.346188]\n",
      "322 [D loss: 0.508128, acc.: 74.31%] [G loss: 1.348251]\n",
      "323 [D loss: 0.578659, acc.: 67.96%] [G loss: 1.247534]\n",
      "324 [D loss: 0.526180, acc.: 75.41%] [G loss: 1.320198]\n",
      "325 [D loss: 0.478928, acc.: 76.52%] [G loss: 1.505778]\n",
      "326 [D loss: 0.544642, acc.: 70.17%] [G loss: 1.340799]\n",
      "327 [D loss: 0.473754, acc.: 78.18%] [G loss: 1.394515]\n",
      "328 [D loss: 0.541189, acc.: 71.82%] [G loss: 1.360920]\n",
      "329 [D loss: 0.582849, acc.: 66.57%] [G loss: 1.315790]\n"
     ]
    },
    {
     "name": "stderr",
     "output_type": "stream",
     "text": [
      "Clipping input data to the valid range for imshow with RGB data ([0..1] for floats or [0..255] for integers).\n",
      "Clipping input data to the valid range for imshow with RGB data ([0..1] for floats or [0..255] for integers).\n",
      "Clipping input data to the valid range for imshow with RGB data ([0..1] for floats or [0..255] for integers).\n",
      "Clipping input data to the valid range for imshow with RGB data ([0..1] for floats or [0..255] for integers).\n",
      "Clipping input data to the valid range for imshow with RGB data ([0..1] for floats or [0..255] for integers).\n",
      "Clipping input data to the valid range for imshow with RGB data ([0..1] for floats or [0..255] for integers).\n",
      "Clipping input data to the valid range for imshow with RGB data ([0..1] for floats or [0..255] for integers).\n",
      "Clipping input data to the valid range for imshow with RGB data ([0..1] for floats or [0..255] for integers).\n"
     ]
    },
    {
     "name": "stdout",
     "output_type": "stream",
     "text": [
      "330 [D loss: 0.451012, acc.: 80.11%] [G loss: 1.339578]\n",
      "331 [D loss: 0.421173, acc.: 82.04%] [G loss: 1.566587]\n",
      "332 [D loss: 0.511265, acc.: 73.48%] [G loss: 1.419174]\n",
      "333 [D loss: 0.530364, acc.: 74.03%] [G loss: 1.605564]\n",
      "334 [D loss: 0.512111, acc.: 74.86%] [G loss: 1.467274]\n",
      "335 [D loss: 0.485597, acc.: 77.90%] [G loss: 1.531072]\n",
      "336 [D loss: 0.463736, acc.: 77.35%] [G loss: 1.604488]\n",
      "337 [D loss: 0.521603, acc.: 75.69%] [G loss: 1.476320]\n",
      "338 [D loss: 0.484655, acc.: 75.41%] [G loss: 1.542074]\n",
      "339 [D loss: 0.495235, acc.: 75.14%] [G loss: 1.370627]\n"
     ]
    },
    {
     "name": "stderr",
     "output_type": "stream",
     "text": [
      "Clipping input data to the valid range for imshow with RGB data ([0..1] for floats or [0..255] for integers).\n",
      "Clipping input data to the valid range for imshow with RGB data ([0..1] for floats or [0..255] for integers).\n",
      "Clipping input data to the valid range for imshow with RGB data ([0..1] for floats or [0..255] for integers).\n",
      "Clipping input data to the valid range for imshow with RGB data ([0..1] for floats or [0..255] for integers).\n",
      "Clipping input data to the valid range for imshow with RGB data ([0..1] for floats or [0..255] for integers).\n",
      "Clipping input data to the valid range for imshow with RGB data ([0..1] for floats or [0..255] for integers).\n",
      "Clipping input data to the valid range for imshow with RGB data ([0..1] for floats or [0..255] for integers).\n"
     ]
    },
    {
     "name": "stdout",
     "output_type": "stream",
     "text": [
      "340 [D loss: 0.574751, acc.: 71.27%] [G loss: 1.514445]\n",
      "341 [D loss: 0.557587, acc.: 70.17%] [G loss: 1.280477]\n",
      "342 [D loss: 0.502590, acc.: 75.97%] [G loss: 1.416909]\n",
      "343 [D loss: 0.490507, acc.: 74.59%] [G loss: 1.466283]\n",
      "344 [D loss: 0.519606, acc.: 75.41%] [G loss: 1.480798]\n",
      "345 [D loss: 0.543829, acc.: 71.55%] [G loss: 1.369459]\n",
      "346 [D loss: 0.484139, acc.: 77.90%] [G loss: 1.443052]\n",
      "347 [D loss: 0.513024, acc.: 77.35%] [G loss: 1.487362]\n",
      "348 [D loss: 0.623961, acc.: 68.78%] [G loss: 1.417422]\n",
      "349 [D loss: 0.527838, acc.: 73.76%] [G loss: 1.459443]\n"
     ]
    },
    {
     "name": "stderr",
     "output_type": "stream",
     "text": [
      "Clipping input data to the valid range for imshow with RGB data ([0..1] for floats or [0..255] for integers).\n",
      "Clipping input data to the valid range for imshow with RGB data ([0..1] for floats or [0..255] for integers).\n",
      "Clipping input data to the valid range for imshow with RGB data ([0..1] for floats or [0..255] for integers).\n",
      "Clipping input data to the valid range for imshow with RGB data ([0..1] for floats or [0..255] for integers).\n",
      "Clipping input data to the valid range for imshow with RGB data ([0..1] for floats or [0..255] for integers).\n",
      "Clipping input data to the valid range for imshow with RGB data ([0..1] for floats or [0..255] for integers).\n",
      "Clipping input data to the valid range for imshow with RGB data ([0..1] for floats or [0..255] for integers).\n",
      "Clipping input data to the valid range for imshow with RGB data ([0..1] for floats or [0..255] for integers).\n"
     ]
    },
    {
     "name": "stdout",
     "output_type": "stream",
     "text": [
      "350 [D loss: 0.550263, acc.: 70.99%] [G loss: 1.558354]\n",
      "351 [D loss: 0.545603, acc.: 70.44%] [G loss: 1.379196]\n",
      "352 [D loss: 0.493125, acc.: 75.41%] [G loss: 1.494899]\n",
      "353 [D loss: 0.493439, acc.: 74.86%] [G loss: 1.715039]\n",
      "354 [D loss: 0.483058, acc.: 75.69%] [G loss: 1.430270]\n",
      "355 [D loss: 0.452895, acc.: 81.77%] [G loss: 1.483445]\n",
      "356 [D loss: 0.523004, acc.: 74.86%] [G loss: 1.538343]\n",
      "357 [D loss: 0.497457, acc.: 78.73%] [G loss: 1.373453]\n",
      "358 [D loss: 0.496845, acc.: 76.80%] [G loss: 1.355061]\n",
      "359 [D loss: 0.455943, acc.: 77.62%] [G loss: 1.598737]\n"
     ]
    },
    {
     "name": "stderr",
     "output_type": "stream",
     "text": [
      "Clipping input data to the valid range for imshow with RGB data ([0..1] for floats or [0..255] for integers).\n",
      "Clipping input data to the valid range for imshow with RGB data ([0..1] for floats or [0..255] for integers).\n",
      "Clipping input data to the valid range for imshow with RGB data ([0..1] for floats or [0..255] for integers).\n",
      "Clipping input data to the valid range for imshow with RGB data ([0..1] for floats or [0..255] for integers).\n",
      "Clipping input data to the valid range for imshow with RGB data ([0..1] for floats or [0..255] for integers).\n",
      "Clipping input data to the valid range for imshow with RGB data ([0..1] for floats or [0..255] for integers).\n",
      "Clipping input data to the valid range for imshow with RGB data ([0..1] for floats or [0..255] for integers).\n"
     ]
    },
    {
     "name": "stdout",
     "output_type": "stream",
     "text": [
      "360 [D loss: 0.501369, acc.: 76.52%] [G loss: 1.431235]\n",
      "361 [D loss: 0.512184, acc.: 72.93%] [G loss: 1.367621]\n",
      "362 [D loss: 0.512051, acc.: 74.31%] [G loss: 1.428184]\n",
      "363 [D loss: 0.609032, acc.: 68.51%] [G loss: 1.339681]\n",
      "364 [D loss: 0.583157, acc.: 68.78%] [G loss: 1.323702]\n",
      "365 [D loss: 0.490362, acc.: 74.86%] [G loss: 1.330169]\n",
      "366 [D loss: 0.438774, acc.: 80.39%] [G loss: 1.469598]\n",
      "367 [D loss: 0.547252, acc.: 72.93%] [G loss: 1.292095]\n",
      "368 [D loss: 0.452310, acc.: 80.66%] [G loss: 1.575629]\n",
      "369 [D loss: 0.567940, acc.: 72.65%] [G loss: 1.469156]\n"
     ]
    },
    {
     "name": "stderr",
     "output_type": "stream",
     "text": [
      "Clipping input data to the valid range for imshow with RGB data ([0..1] for floats or [0..255] for integers).\n",
      "Clipping input data to the valid range for imshow with RGB data ([0..1] for floats or [0..255] for integers).\n",
      "Clipping input data to the valid range for imshow with RGB data ([0..1] for floats or [0..255] for integers).\n",
      "Clipping input data to the valid range for imshow with RGB data ([0..1] for floats or [0..255] for integers).\n",
      "Clipping input data to the valid range for imshow with RGB data ([0..1] for floats or [0..255] for integers).\n",
      "Clipping input data to the valid range for imshow with RGB data ([0..1] for floats or [0..255] for integers).\n",
      "Clipping input data to the valid range for imshow with RGB data ([0..1] for floats or [0..255] for integers).\n"
     ]
    },
    {
     "name": "stdout",
     "output_type": "stream",
     "text": [
      "370 [D loss: 0.565850, acc.: 72.10%] [G loss: 1.368126]\n",
      "371 [D loss: 0.512704, acc.: 74.31%] [G loss: 1.557259]\n",
      "372 [D loss: 0.563784, acc.: 70.72%] [G loss: 1.312062]\n",
      "373 [D loss: 0.519948, acc.: 74.59%] [G loss: 1.407918]\n",
      "374 [D loss: 0.398115, acc.: 81.77%] [G loss: 1.591539]\n",
      "375 [D loss: 0.520954, acc.: 75.41%] [G loss: 1.498534]\n",
      "376 [D loss: 0.516055, acc.: 72.93%] [G loss: 1.350616]\n",
      "377 [D loss: 0.508682, acc.: 76.24%] [G loss: 1.394110]\n",
      "378 [D loss: 0.472417, acc.: 76.80%] [G loss: 1.502075]\n",
      "379 [D loss: 0.620081, acc.: 67.96%] [G loss: 1.536917]\n"
     ]
    },
    {
     "name": "stderr",
     "output_type": "stream",
     "text": [
      "Clipping input data to the valid range for imshow with RGB data ([0..1] for floats or [0..255] for integers).\n",
      "Clipping input data to the valid range for imshow with RGB data ([0..1] for floats or [0..255] for integers).\n",
      "Clipping input data to the valid range for imshow with RGB data ([0..1] for floats or [0..255] for integers).\n",
      "Clipping input data to the valid range for imshow with RGB data ([0..1] for floats or [0..255] for integers).\n",
      "Clipping input data to the valid range for imshow with RGB data ([0..1] for floats or [0..255] for integers).\n",
      "Clipping input data to the valid range for imshow with RGB data ([0..1] for floats or [0..255] for integers).\n",
      "Clipping input data to the valid range for imshow with RGB data ([0..1] for floats or [0..255] for integers).\n"
     ]
    },
    {
     "name": "stdout",
     "output_type": "stream",
     "text": [
      "380 [D loss: 0.499133, acc.: 77.35%] [G loss: 1.376922]\n",
      "381 [D loss: 0.459965, acc.: 75.69%] [G loss: 1.578831]\n",
      "382 [D loss: 0.494652, acc.: 77.62%] [G loss: 1.433421]\n",
      "383 [D loss: 0.562437, acc.: 71.82%] [G loss: 1.344084]\n",
      "384 [D loss: 0.446340, acc.: 80.11%] [G loss: 1.495894]\n",
      "385 [D loss: 0.577384, acc.: 69.61%] [G loss: 1.334327]\n",
      "386 [D loss: 0.492424, acc.: 75.14%] [G loss: 1.350693]\n",
      "387 [D loss: 0.559808, acc.: 71.27%] [G loss: 1.348615]\n",
      "388 [D loss: 0.378216, acc.: 83.98%] [G loss: 1.637098]\n",
      "389 [D loss: 0.500421, acc.: 77.35%] [G loss: 1.557498]\n"
     ]
    },
    {
     "name": "stderr",
     "output_type": "stream",
     "text": [
      "Clipping input data to the valid range for imshow with RGB data ([0..1] for floats or [0..255] for integers).\n",
      "Clipping input data to the valid range for imshow with RGB data ([0..1] for floats or [0..255] for integers).\n",
      "Clipping input data to the valid range for imshow with RGB data ([0..1] for floats or [0..255] for integers).\n",
      "Clipping input data to the valid range for imshow with RGB data ([0..1] for floats or [0..255] for integers).\n",
      "Clipping input data to the valid range for imshow with RGB data ([0..1] for floats or [0..255] for integers).\n",
      "Clipping input data to the valid range for imshow with RGB data ([0..1] for floats or [0..255] for integers).\n",
      "Clipping input data to the valid range for imshow with RGB data ([0..1] for floats or [0..255] for integers).\n",
      "Clipping input data to the valid range for imshow with RGB data ([0..1] for floats or [0..255] for integers).\n"
     ]
    },
    {
     "name": "stdout",
     "output_type": "stream",
     "text": [
      "390 [D loss: 0.516915, acc.: 74.59%] [G loss: 1.566228]\n",
      "391 [D loss: 0.401789, acc.: 81.77%] [G loss: 1.610147]\n",
      "392 [D loss: 0.474734, acc.: 78.45%] [G loss: 1.423433]\n",
      "393 [D loss: 0.483351, acc.: 77.35%] [G loss: 1.732425]\n",
      "394 [D loss: 0.501339, acc.: 75.69%] [G loss: 1.476051]\n",
      "395 [D loss: 0.520312, acc.: 76.24%] [G loss: 1.641435]\n",
      "396 [D loss: 0.495015, acc.: 72.93%] [G loss: 1.628588]\n",
      "397 [D loss: 0.467479, acc.: 77.62%] [G loss: 1.636741]\n",
      "398 [D loss: 0.504977, acc.: 74.86%] [G loss: 1.475759]\n",
      "399 [D loss: 0.488767, acc.: 77.35%] [G loss: 1.531572]\n"
     ]
    },
    {
     "name": "stderr",
     "output_type": "stream",
     "text": [
      "Clipping input data to the valid range for imshow with RGB data ([0..1] for floats or [0..255] for integers).\n",
      "Clipping input data to the valid range for imshow with RGB data ([0..1] for floats or [0..255] for integers).\n",
      "Clipping input data to the valid range for imshow with RGB data ([0..1] for floats or [0..255] for integers).\n",
      "Clipping input data to the valid range for imshow with RGB data ([0..1] for floats or [0..255] for integers).\n",
      "Clipping input data to the valid range for imshow with RGB data ([0..1] for floats or [0..255] for integers).\n",
      "Clipping input data to the valid range for imshow with RGB data ([0..1] for floats or [0..255] for integers).\n",
      "Clipping input data to the valid range for imshow with RGB data ([0..1] for floats or [0..255] for integers).\n",
      "Clipping input data to the valid range for imshow with RGB data ([0..1] for floats or [0..255] for integers).\n"
     ]
    },
    {
     "name": "stdout",
     "output_type": "stream",
     "text": [
      "400 [D loss: 0.564309, acc.: 72.10%] [G loss: 1.411552]\n",
      "401 [D loss: 0.474425, acc.: 76.52%] [G loss: 1.603539]\n",
      "402 [D loss: 0.498208, acc.: 76.80%] [G loss: 1.661008]\n",
      "403 [D loss: 0.469745, acc.: 78.45%] [G loss: 1.592224]\n",
      "404 [D loss: 0.523095, acc.: 72.10%] [G loss: 1.410814]\n",
      "405 [D loss: 0.497833, acc.: 76.80%] [G loss: 1.598047]\n",
      "406 [D loss: 0.584010, acc.: 72.10%] [G loss: 1.587855]\n",
      "407 [D loss: 0.442372, acc.: 77.62%] [G loss: 1.646215]\n",
      "408 [D loss: 0.504714, acc.: 75.97%] [G loss: 1.395035]\n",
      "409 [D loss: 0.452168, acc.: 80.11%] [G loss: 1.511269]\n"
     ]
    },
    {
     "name": "stderr",
     "output_type": "stream",
     "text": [
      "Clipping input data to the valid range for imshow with RGB data ([0..1] for floats or [0..255] for integers).\n",
      "Clipping input data to the valid range for imshow with RGB data ([0..1] for floats or [0..255] for integers).\n",
      "Clipping input data to the valid range for imshow with RGB data ([0..1] for floats or [0..255] for integers).\n",
      "Clipping input data to the valid range for imshow with RGB data ([0..1] for floats or [0..255] for integers).\n",
      "Clipping input data to the valid range for imshow with RGB data ([0..1] for floats or [0..255] for integers).\n",
      "Clipping input data to the valid range for imshow with RGB data ([0..1] for floats or [0..255] for integers).\n",
      "Clipping input data to the valid range for imshow with RGB data ([0..1] for floats or [0..255] for integers).\n",
      "Clipping input data to the valid range for imshow with RGB data ([0..1] for floats or [0..255] for integers).\n"
     ]
    },
    {
     "name": "stdout",
     "output_type": "stream",
     "text": [
      "410 [D loss: 0.438983, acc.: 81.22%] [G loss: 1.697778]\n",
      "411 [D loss: 0.410275, acc.: 79.83%] [G loss: 1.726198]\n",
      "412 [D loss: 0.526270, acc.: 75.69%] [G loss: 1.686718]\n",
      "413 [D loss: 0.455595, acc.: 77.62%] [G loss: 1.687231]\n",
      "414 [D loss: 0.512555, acc.: 72.93%] [G loss: 1.460364]\n",
      "415 [D loss: 0.521732, acc.: 72.93%] [G loss: 1.578107]\n",
      "416 [D loss: 0.432322, acc.: 76.80%] [G loss: 1.595941]\n",
      "417 [D loss: 0.485796, acc.: 77.07%] [G loss: 1.614574]\n",
      "418 [D loss: 0.606627, acc.: 66.57%] [G loss: 1.371620]\n",
      "419 [D loss: 0.523529, acc.: 73.20%] [G loss: 1.369464]\n"
     ]
    },
    {
     "name": "stderr",
     "output_type": "stream",
     "text": [
      "Clipping input data to the valid range for imshow with RGB data ([0..1] for floats or [0..255] for integers).\n",
      "Clipping input data to the valid range for imshow with RGB data ([0..1] for floats or [0..255] for integers).\n",
      "Clipping input data to the valid range for imshow with RGB data ([0..1] for floats or [0..255] for integers).\n",
      "Clipping input data to the valid range for imshow with RGB data ([0..1] for floats or [0..255] for integers).\n",
      "Clipping input data to the valid range for imshow with RGB data ([0..1] for floats or [0..255] for integers).\n",
      "Clipping input data to the valid range for imshow with RGB data ([0..1] for floats or [0..255] for integers).\n",
      "Clipping input data to the valid range for imshow with RGB data ([0..1] for floats or [0..255] for integers).\n",
      "Clipping input data to the valid range for imshow with RGB data ([0..1] for floats or [0..255] for integers).\n"
     ]
    },
    {
     "name": "stdout",
     "output_type": "stream",
     "text": [
      "420 [D loss: 0.578876, acc.: 67.96%] [G loss: 1.477336]\n",
      "421 [D loss: 0.393036, acc.: 82.32%] [G loss: 1.738468]\n",
      "422 [D loss: 0.482466, acc.: 75.41%] [G loss: 1.737233]\n",
      "423 [D loss: 0.503022, acc.: 77.62%] [G loss: 1.455667]\n",
      "424 [D loss: 0.421538, acc.: 82.04%] [G loss: 1.503518]\n",
      "425 [D loss: 0.543111, acc.: 72.65%] [G loss: 1.474164]\n",
      "426 [D loss: 0.531032, acc.: 72.10%] [G loss: 1.397990]\n",
      "427 [D loss: 0.512488, acc.: 74.03%] [G loss: 1.410470]\n",
      "428 [D loss: 0.527644, acc.: 72.93%] [G loss: 1.504511]\n",
      "429 [D loss: 0.478313, acc.: 77.62%] [G loss: 1.600428]\n"
     ]
    },
    {
     "name": "stderr",
     "output_type": "stream",
     "text": [
      "Clipping input data to the valid range for imshow with RGB data ([0..1] for floats or [0..255] for integers).\n",
      "Clipping input data to the valid range for imshow with RGB data ([0..1] for floats or [0..255] for integers).\n",
      "Clipping input data to the valid range for imshow with RGB data ([0..1] for floats or [0..255] for integers).\n",
      "Clipping input data to the valid range for imshow with RGB data ([0..1] for floats or [0..255] for integers).\n",
      "Clipping input data to the valid range for imshow with RGB data ([0..1] for floats or [0..255] for integers).\n",
      "Clipping input data to the valid range for imshow with RGB data ([0..1] for floats or [0..255] for integers).\n"
     ]
    },
    {
     "name": "stdout",
     "output_type": "stream",
     "text": [
      "430 [D loss: 0.521742, acc.: 71.82%] [G loss: 1.565531]\n"
     ]
    },
    {
     "name": "stderr",
     "output_type": "stream",
     "text": [
      "Clipping input data to the valid range for imshow with RGB data ([0..1] for floats or [0..255] for integers).\n",
      "Clipping input data to the valid range for imshow with RGB data ([0..1] for floats or [0..255] for integers).\n"
     ]
    },
    {
     "name": "stdout",
     "output_type": "stream",
     "text": [
      "431 [D loss: 0.509283, acc.: 73.48%] [G loss: 1.381145]\n",
      "432 [D loss: 0.528612, acc.: 73.76%] [G loss: 1.344744]\n",
      "433 [D loss: 0.407153, acc.: 82.87%] [G loss: 1.634958]\n",
      "434 [D loss: 0.424412, acc.: 79.56%] [G loss: 1.734751]\n",
      "435 [D loss: 0.485080, acc.: 75.14%] [G loss: 1.472079]\n",
      "436 [D loss: 0.492689, acc.: 76.52%] [G loss: 1.594950]\n",
      "437 [D loss: 0.550729, acc.: 73.48%] [G loss: 1.439798]\n",
      "438 [D loss: 0.505913, acc.: 76.24%] [G loss: 1.448339]\n",
      "439 [D loss: 0.440040, acc.: 81.22%] [G loss: 1.675328]\n"
     ]
    },
    {
     "name": "stderr",
     "output_type": "stream",
     "text": [
      "Clipping input data to the valid range for imshow with RGB data ([0..1] for floats or [0..255] for integers).\n",
      "Clipping input data to the valid range for imshow with RGB data ([0..1] for floats or [0..255] for integers).\n",
      "Clipping input data to the valid range for imshow with RGB data ([0..1] for floats or [0..255] for integers).\n",
      "Clipping input data to the valid range for imshow with RGB data ([0..1] for floats or [0..255] for integers).\n",
      "Clipping input data to the valid range for imshow with RGB data ([0..1] for floats or [0..255] for integers).\n",
      "Clipping input data to the valid range for imshow with RGB data ([0..1] for floats or [0..255] for integers).\n",
      "Clipping input data to the valid range for imshow with RGB data ([0..1] for floats or [0..255] for integers).\n",
      "Clipping input data to the valid range for imshow with RGB data ([0..1] for floats or [0..255] for integers).\n"
     ]
    },
    {
     "name": "stdout",
     "output_type": "stream",
     "text": [
      "440 [D loss: 0.471422, acc.: 76.52%] [G loss: 1.616467]\n",
      "441 [D loss: 0.512809, acc.: 73.48%] [G loss: 1.507044]\n",
      "442 [D loss: 0.496720, acc.: 76.52%] [G loss: 1.884316]\n",
      "443 [D loss: 0.510521, acc.: 74.59%] [G loss: 1.684493]\n",
      "444 [D loss: 0.513371, acc.: 73.76%] [G loss: 1.377474]\n",
      "445 [D loss: 0.512882, acc.: 75.41%] [G loss: 1.593629]\n",
      "446 [D loss: 0.459967, acc.: 78.45%] [G loss: 1.783594]\n",
      "447 [D loss: 0.460294, acc.: 77.07%] [G loss: 1.613624]\n",
      "448 [D loss: 0.501945, acc.: 74.59%] [G loss: 1.408019]\n",
      "449 [D loss: 0.483603, acc.: 76.24%] [G loss: 1.527952]\n"
     ]
    },
    {
     "name": "stderr",
     "output_type": "stream",
     "text": [
      "Clipping input data to the valid range for imshow with RGB data ([0..1] for floats or [0..255] for integers).\n",
      "Clipping input data to the valid range for imshow with RGB data ([0..1] for floats or [0..255] for integers).\n",
      "Clipping input data to the valid range for imshow with RGB data ([0..1] for floats or [0..255] for integers).\n",
      "Clipping input data to the valid range for imshow with RGB data ([0..1] for floats or [0..255] for integers).\n",
      "Clipping input data to the valid range for imshow with RGB data ([0..1] for floats or [0..255] for integers).\n",
      "Clipping input data to the valid range for imshow with RGB data ([0..1] for floats or [0..255] for integers).\n",
      "Clipping input data to the valid range for imshow with RGB data ([0..1] for floats or [0..255] for integers).\n"
     ]
    },
    {
     "name": "stdout",
     "output_type": "stream",
     "text": [
      "450 [D loss: 0.419027, acc.: 80.11%] [G loss: 1.790229]\n",
      "451 [D loss: 0.439901, acc.: 79.28%] [G loss: 1.597458]\n",
      "452 [D loss: 0.544894, acc.: 70.99%] [G loss: 1.412663]\n",
      "453 [D loss: 0.605297, acc.: 70.44%] [G loss: 1.502517]\n",
      "454 [D loss: 0.506001, acc.: 74.31%] [G loss: 1.576145]\n",
      "455 [D loss: 0.529575, acc.: 74.86%] [G loss: 1.574361]\n",
      "456 [D loss: 0.494512, acc.: 77.07%] [G loss: 1.623437]\n",
      "457 [D loss: 0.506423, acc.: 74.59%] [G loss: 1.505572]\n",
      "458 [D loss: 0.482665, acc.: 77.90%] [G loss: 1.619339]\n",
      "459 [D loss: 0.386689, acc.: 82.87%] [G loss: 1.893955]\n"
     ]
    },
    {
     "name": "stderr",
     "output_type": "stream",
     "text": [
      "Clipping input data to the valid range for imshow with RGB data ([0..1] for floats or [0..255] for integers).\n",
      "Clipping input data to the valid range for imshow with RGB data ([0..1] for floats or [0..255] for integers).\n",
      "Clipping input data to the valid range for imshow with RGB data ([0..1] for floats or [0..255] for integers).\n",
      "Clipping input data to the valid range for imshow with RGB data ([0..1] for floats or [0..255] for integers).\n",
      "Clipping input data to the valid range for imshow with RGB data ([0..1] for floats or [0..255] for integers).\n",
      "Clipping input data to the valid range for imshow with RGB data ([0..1] for floats or [0..255] for integers).\n",
      "Clipping input data to the valid range for imshow with RGB data ([0..1] for floats or [0..255] for integers).\n",
      "Clipping input data to the valid range for imshow with RGB data ([0..1] for floats or [0..255] for integers).\n"
     ]
    },
    {
     "name": "stdout",
     "output_type": "stream",
     "text": [
      "460 [D loss: 0.448729, acc.: 79.01%] [G loss: 1.698835]\n",
      "461 [D loss: 0.380576, acc.: 82.60%] [G loss: 1.838541]\n",
      "462 [D loss: 0.399237, acc.: 82.04%] [G loss: 1.695497]\n",
      "463 [D loss: 0.425436, acc.: 78.73%] [G loss: 1.595544]\n",
      "464 [D loss: 0.456330, acc.: 79.56%] [G loss: 1.556590]\n",
      "465 [D loss: 0.464128, acc.: 78.45%] [G loss: 1.548044]\n",
      "466 [D loss: 0.511528, acc.: 74.59%] [G loss: 1.432797]\n",
      "467 [D loss: 0.436403, acc.: 81.22%] [G loss: 1.656661]\n",
      "468 [D loss: 0.485829, acc.: 78.45%] [G loss: 1.745238]\n",
      "469 [D loss: 0.440383, acc.: 77.90%] [G loss: 1.579851]\n"
     ]
    },
    {
     "name": "stderr",
     "output_type": "stream",
     "text": [
      "Clipping input data to the valid range for imshow with RGB data ([0..1] for floats or [0..255] for integers).\n",
      "Clipping input data to the valid range for imshow with RGB data ([0..1] for floats or [0..255] for integers).\n",
      "Clipping input data to the valid range for imshow with RGB data ([0..1] for floats or [0..255] for integers).\n",
      "Clipping input data to the valid range for imshow with RGB data ([0..1] for floats or [0..255] for integers).\n",
      "Clipping input data to the valid range for imshow with RGB data ([0..1] for floats or [0..255] for integers).\n",
      "Clipping input data to the valid range for imshow with RGB data ([0..1] for floats or [0..255] for integers).\n",
      "Clipping input data to the valid range for imshow with RGB data ([0..1] for floats or [0..255] for integers).\n"
     ]
    },
    {
     "name": "stdout",
     "output_type": "stream",
     "text": [
      "470 [D loss: 0.456057, acc.: 78.18%] [G loss: 1.906755]\n",
      "471 [D loss: 0.500571, acc.: 75.41%] [G loss: 1.537273]\n",
      "472 [D loss: 0.441593, acc.: 78.73%] [G loss: 1.702035]\n",
      "473 [D loss: 0.458006, acc.: 77.90%] [G loss: 1.502805]\n",
      "474 [D loss: 0.521768, acc.: 75.14%] [G loss: 1.547012]\n",
      "475 [D loss: 0.509076, acc.: 74.31%] [G loss: 1.395452]\n",
      "476 [D loss: 0.462947, acc.: 78.45%] [G loss: 1.406817]\n",
      "477 [D loss: 0.462680, acc.: 77.90%] [G loss: 1.683253]\n",
      "478 [D loss: 0.482914, acc.: 74.86%] [G loss: 1.949515]\n",
      "479 [D loss: 0.424829, acc.: 81.77%] [G loss: 2.442525]\n"
     ]
    },
    {
     "name": "stderr",
     "output_type": "stream",
     "text": [
      "Clipping input data to the valid range for imshow with RGB data ([0..1] for floats or [0..255] for integers).\n",
      "Clipping input data to the valid range for imshow with RGB data ([0..1] for floats or [0..255] for integers).\n",
      "Clipping input data to the valid range for imshow with RGB data ([0..1] for floats or [0..255] for integers).\n",
      "Clipping input data to the valid range for imshow with RGB data ([0..1] for floats or [0..255] for integers).\n",
      "Clipping input data to the valid range for imshow with RGB data ([0..1] for floats or [0..255] for integers).\n",
      "Clipping input data to the valid range for imshow with RGB data ([0..1] for floats or [0..255] for integers).\n"
     ]
    },
    {
     "name": "stdout",
     "output_type": "stream",
     "text": [
      "480 [D loss: 0.480686, acc.: 77.90%] [G loss: 2.161156]\n",
      "481 [D loss: 0.426995, acc.: 81.49%] [G loss: 1.868323]\n",
      "482 [D loss: 0.431773, acc.: 78.18%] [G loss: 1.785652]\n",
      "483 [D loss: 0.476600, acc.: 77.35%] [G loss: 1.596480]\n",
      "484 [D loss: 0.411804, acc.: 82.04%] [G loss: 1.782391]\n",
      "485 [D loss: 0.480583, acc.: 77.90%] [G loss: 1.567993]\n",
      "486 [D loss: 0.464499, acc.: 79.56%] [G loss: 1.666351]\n",
      "487 [D loss: 0.466974, acc.: 76.52%] [G loss: 1.727702]\n",
      "488 [D loss: 0.419078, acc.: 80.39%] [G loss: 1.680470]\n",
      "489 [D loss: 0.535211, acc.: 74.31%] [G loss: 1.615252]\n"
     ]
    },
    {
     "name": "stderr",
     "output_type": "stream",
     "text": [
      "Clipping input data to the valid range for imshow with RGB data ([0..1] for floats or [0..255] for integers).\n",
      "Clipping input data to the valid range for imshow with RGB data ([0..1] for floats or [0..255] for integers).\n",
      "Clipping input data to the valid range for imshow with RGB data ([0..1] for floats or [0..255] for integers).\n",
      "Clipping input data to the valid range for imshow with RGB data ([0..1] for floats or [0..255] for integers).\n"
     ]
    },
    {
     "name": "stdout",
     "output_type": "stream",
     "text": [
      "490 [D loss: 0.456449, acc.: 78.73%] [G loss: 1.503380]\n",
      "491 [D loss: 0.477474, acc.: 78.45%] [G loss: 1.681240]\n",
      "492 [D loss: 0.394476, acc.: 82.60%] [G loss: 1.899201]\n",
      "493 [D loss: 0.463113, acc.: 78.73%] [G loss: 1.520376]\n",
      "494 [D loss: 0.524320, acc.: 74.31%] [G loss: 1.545363]\n",
      "495 [D loss: 0.462035, acc.: 77.90%] [G loss: 1.381070]\n",
      "496 [D loss: 0.440814, acc.: 79.83%] [G loss: 1.703371]\n",
      "497 [D loss: 0.467414, acc.: 75.97%] [G loss: 1.504202]\n",
      "498 [D loss: 0.474975, acc.: 75.69%] [G loss: 1.687616]\n",
      "499 [D loss: 0.519655, acc.: 75.97%] [G loss: 1.416874]\n"
     ]
    },
    {
     "name": "stderr",
     "output_type": "stream",
     "text": [
      "Clipping input data to the valid range for imshow with RGB data ([0..1] for floats or [0..255] for integers).\n",
      "Clipping input data to the valid range for imshow with RGB data ([0..1] for floats or [0..255] for integers).\n",
      "Clipping input data to the valid range for imshow with RGB data ([0..1] for floats or [0..255] for integers).\n",
      "Clipping input data to the valid range for imshow with RGB data ([0..1] for floats or [0..255] for integers).\n",
      "Clipping input data to the valid range for imshow with RGB data ([0..1] for floats or [0..255] for integers).\n",
      "Clipping input data to the valid range for imshow with RGB data ([0..1] for floats or [0..255] for integers).\n"
     ]
    },
    {
     "name": "stdout",
     "output_type": "stream",
     "text": [
      "500 [D loss: 0.467824, acc.: 78.73%] [G loss: 1.526957]\n",
      "501 [D loss: 0.423860, acc.: 80.94%] [G loss: 1.579319]\n",
      "502 [D loss: 0.496554, acc.: 75.97%] [G loss: 1.586029]\n",
      "503 [D loss: 0.428404, acc.: 77.90%] [G loss: 1.534334]\n",
      "504 [D loss: 0.513306, acc.: 75.41%] [G loss: 1.536368]\n",
      "505 [D loss: 0.456061, acc.: 79.01%] [G loss: 1.837255]\n",
      "506 [D loss: 0.561776, acc.: 72.38%] [G loss: 1.698915]\n",
      "507 [D loss: 0.412734, acc.: 83.98%] [G loss: 1.580248]\n",
      "508 [D loss: 0.495789, acc.: 76.24%] [G loss: 1.539859]\n",
      "509 [D loss: 0.475180, acc.: 76.80%] [G loss: 1.590577]\n"
     ]
    },
    {
     "name": "stderr",
     "output_type": "stream",
     "text": [
      "Clipping input data to the valid range for imshow with RGB data ([0..1] for floats or [0..255] for integers).\n",
      "Clipping input data to the valid range for imshow with RGB data ([0..1] for floats or [0..255] for integers).\n",
      "Clipping input data to the valid range for imshow with RGB data ([0..1] for floats or [0..255] for integers).\n",
      "Clipping input data to the valid range for imshow with RGB data ([0..1] for floats or [0..255] for integers).\n",
      "Clipping input data to the valid range for imshow with RGB data ([0..1] for floats or [0..255] for integers).\n",
      "Clipping input data to the valid range for imshow with RGB data ([0..1] for floats or [0..255] for integers).\n",
      "Clipping input data to the valid range for imshow with RGB data ([0..1] for floats or [0..255] for integers).\n"
     ]
    },
    {
     "name": "stdout",
     "output_type": "stream",
     "text": [
      "510 [D loss: 0.495186, acc.: 76.52%] [G loss: 1.412798]\n",
      "511 [D loss: 0.518614, acc.: 75.69%] [G loss: 1.551177]\n",
      "512 [D loss: 0.488362, acc.: 77.07%] [G loss: 1.480275]\n",
      "513 [D loss: 0.526710, acc.: 74.03%] [G loss: 1.327634]\n",
      "514 [D loss: 0.477264, acc.: 77.62%] [G loss: 1.483599]\n",
      "515 [D loss: 0.528368, acc.: 72.38%] [G loss: 1.684889]\n",
      "516 [D loss: 0.474734, acc.: 76.80%] [G loss: 1.460241]\n",
      "517 [D loss: 0.309900, acc.: 88.40%] [G loss: 2.102831]\n",
      "518 [D loss: 0.355981, acc.: 84.81%] [G loss: 1.969383]\n",
      "519 [D loss: 0.401339, acc.: 80.94%] [G loss: 2.001855]\n"
     ]
    },
    {
     "name": "stderr",
     "output_type": "stream",
     "text": [
      "Clipping input data to the valid range for imshow with RGB data ([0..1] for floats or [0..255] for integers).\n",
      "Clipping input data to the valid range for imshow with RGB data ([0..1] for floats or [0..255] for integers).\n",
      "Clipping input data to the valid range for imshow with RGB data ([0..1] for floats or [0..255] for integers).\n",
      "Clipping input data to the valid range for imshow with RGB data ([0..1] for floats or [0..255] for integers).\n",
      "Clipping input data to the valid range for imshow with RGB data ([0..1] for floats or [0..255] for integers).\n",
      "Clipping input data to the valid range for imshow with RGB data ([0..1] for floats or [0..255] for integers).\n",
      "Clipping input data to the valid range for imshow with RGB data ([0..1] for floats or [0..255] for integers).\n"
     ]
    },
    {
     "name": "stdout",
     "output_type": "stream",
     "text": [
      "520 [D loss: 0.418076, acc.: 80.11%] [G loss: 1.858061]\n",
      "521 [D loss: 0.445660, acc.: 77.35%] [G loss: 1.711187]\n",
      "522 [D loss: 0.447938, acc.: 80.39%] [G loss: 1.734421]\n",
      "523 [D loss: 0.510582, acc.: 77.07%] [G loss: 1.622358]\n",
      "524 [D loss: 0.431824, acc.: 80.11%] [G loss: 1.673257]\n",
      "525 [D loss: 0.461432, acc.: 76.52%] [G loss: 1.541897]\n",
      "526 [D loss: 0.418993, acc.: 83.98%] [G loss: 1.699850]\n",
      "527 [D loss: 0.483582, acc.: 77.62%] [G loss: 1.735220]\n",
      "528 [D loss: 0.436017, acc.: 79.28%] [G loss: 1.956444]\n",
      "529 [D loss: 0.495991, acc.: 76.80%] [G loss: 1.604069]\n"
     ]
    },
    {
     "name": "stderr",
     "output_type": "stream",
     "text": [
      "Clipping input data to the valid range for imshow with RGB data ([0..1] for floats or [0..255] for integers).\n",
      "Clipping input data to the valid range for imshow with RGB data ([0..1] for floats or [0..255] for integers).\n",
      "Clipping input data to the valid range for imshow with RGB data ([0..1] for floats or [0..255] for integers).\n",
      "Clipping input data to the valid range for imshow with RGB data ([0..1] for floats or [0..255] for integers).\n",
      "Clipping input data to the valid range for imshow with RGB data ([0..1] for floats or [0..255] for integers).\n",
      "Clipping input data to the valid range for imshow with RGB data ([0..1] for floats or [0..255] for integers).\n"
     ]
    },
    {
     "name": "stdout",
     "output_type": "stream",
     "text": [
      "530 [D loss: 0.509230, acc.: 76.52%] [G loss: 1.554175]\n",
      "531 [D loss: 0.480665, acc.: 77.07%] [G loss: 1.707625]\n",
      "532 [D loss: 0.424419, acc.: 80.39%] [G loss: 1.758183]\n",
      "533 [D loss: 0.428302, acc.: 79.83%] [G loss: 1.694489]\n",
      "534 [D loss: 0.419139, acc.: 80.66%] [G loss: 1.718650]\n",
      "535 [D loss: 0.493254, acc.: 75.69%] [G loss: 1.799911]\n",
      "536 [D loss: 0.455377, acc.: 80.11%] [G loss: 1.704531]\n",
      "537 [D loss: 0.448213, acc.: 79.01%] [G loss: 1.568740]\n",
      "538 [D loss: 0.497309, acc.: 75.69%] [G loss: 1.528459]\n",
      "539 [D loss: 0.513774, acc.: 75.69%] [G loss: 1.540366]\n"
     ]
    },
    {
     "name": "stderr",
     "output_type": "stream",
     "text": [
      "Clipping input data to the valid range for imshow with RGB data ([0..1] for floats or [0..255] for integers).\n",
      "Clipping input data to the valid range for imshow with RGB data ([0..1] for floats or [0..255] for integers).\n",
      "Clipping input data to the valid range for imshow with RGB data ([0..1] for floats or [0..255] for integers).\n",
      "Clipping input data to the valid range for imshow with RGB data ([0..1] for floats or [0..255] for integers).\n",
      "Clipping input data to the valid range for imshow with RGB data ([0..1] for floats or [0..255] for integers).\n",
      "Clipping input data to the valid range for imshow with RGB data ([0..1] for floats or [0..255] for integers).\n"
     ]
    },
    {
     "name": "stdout",
     "output_type": "stream",
     "text": [
      "540 [D loss: 0.454278, acc.: 77.90%] [G loss: 1.561809]\n",
      "541 [D loss: 0.449282, acc.: 79.28%] [G loss: 1.612309]\n",
      "542 [D loss: 0.452410, acc.: 76.80%] [G loss: 1.544948]\n",
      "543 [D loss: 0.564719, acc.: 72.38%] [G loss: 1.792520]\n",
      "544 [D loss: 0.418168, acc.: 80.94%] [G loss: 1.533008]\n",
      "545 [D loss: 0.427997, acc.: 79.83%] [G loss: 1.644388]\n",
      "546 [D loss: 0.491557, acc.: 76.80%] [G loss: 1.633552]\n",
      "547 [D loss: 0.463000, acc.: 79.28%] [G loss: 1.678033]\n",
      "548 [D loss: 0.485934, acc.: 76.24%] [G loss: 1.628751]\n",
      "549 [D loss: 0.503338, acc.: 76.80%] [G loss: 1.758526]\n"
     ]
    },
    {
     "name": "stderr",
     "output_type": "stream",
     "text": [
      "Clipping input data to the valid range for imshow with RGB data ([0..1] for floats or [0..255] for integers).\n",
      "Clipping input data to the valid range for imshow with RGB data ([0..1] for floats or [0..255] for integers).\n",
      "Clipping input data to the valid range for imshow with RGB data ([0..1] for floats or [0..255] for integers).\n",
      "Clipping input data to the valid range for imshow with RGB data ([0..1] for floats or [0..255] for integers).\n",
      "Clipping input data to the valid range for imshow with RGB data ([0..1] for floats or [0..255] for integers).\n",
      "Clipping input data to the valid range for imshow with RGB data ([0..1] for floats or [0..255] for integers).\n",
      "Clipping input data to the valid range for imshow with RGB data ([0..1] for floats or [0..255] for integers).\n"
     ]
    },
    {
     "name": "stdout",
     "output_type": "stream",
     "text": [
      "550 [D loss: 0.460039, acc.: 78.18%] [G loss: 1.787156]\n",
      "551 [D loss: 0.420846, acc.: 81.49%] [G loss: 1.860411]\n",
      "552 [D loss: 0.412626, acc.: 81.77%] [G loss: 2.035078]\n",
      "553 [D loss: 0.439384, acc.: 79.83%] [G loss: 1.732130]\n",
      "554 [D loss: 0.478900, acc.: 77.62%] [G loss: 1.626131]\n",
      "555 [D loss: 0.433955, acc.: 79.28%] [G loss: 1.700682]\n",
      "556 [D loss: 0.469736, acc.: 78.73%] [G loss: 1.759598]\n",
      "557 [D loss: 0.492996, acc.: 77.07%] [G loss: 1.567226]\n",
      "558 [D loss: 0.493438, acc.: 76.80%] [G loss: 1.607338]\n",
      "559 [D loss: 0.493045, acc.: 77.07%] [G loss: 1.695157]\n"
     ]
    },
    {
     "name": "stderr",
     "output_type": "stream",
     "text": [
      "Clipping input data to the valid range for imshow with RGB data ([0..1] for floats or [0..255] for integers).\n",
      "Clipping input data to the valid range for imshow with RGB data ([0..1] for floats or [0..255] for integers).\n",
      "Clipping input data to the valid range for imshow with RGB data ([0..1] for floats or [0..255] for integers).\n",
      "Clipping input data to the valid range for imshow with RGB data ([0..1] for floats or [0..255] for integers).\n",
      "Clipping input data to the valid range for imshow with RGB data ([0..1] for floats or [0..255] for integers).\n",
      "Clipping input data to the valid range for imshow with RGB data ([0..1] for floats or [0..255] for integers).\n"
     ]
    },
    {
     "name": "stdout",
     "output_type": "stream",
     "text": [
      "560 [D loss: 0.213075, acc.: 91.71%] [G loss: 3.403647]\n",
      "561 [D loss: 0.313907, acc.: 86.46%] [G loss: 2.530927]\n",
      "562 [D loss: 0.359189, acc.: 83.43%] [G loss: 2.288738]\n",
      "563 [D loss: 0.340708, acc.: 83.70%] [G loss: 2.184604]\n",
      "564 [D loss: 0.365501, acc.: 84.81%] [G loss: 2.228650]\n",
      "565 [D loss: 0.362445, acc.: 83.98%] [G loss: 2.034126]\n",
      "566 [D loss: 0.414862, acc.: 80.11%] [G loss: 1.716597]\n",
      "567 [D loss: 0.404090, acc.: 81.77%] [G loss: 1.773024]\n",
      "568 [D loss: 0.421793, acc.: 81.22%] [G loss: 1.828987]\n",
      "569 [D loss: 0.409299, acc.: 82.04%] [G loss: 1.994082]\n"
     ]
    },
    {
     "name": "stderr",
     "output_type": "stream",
     "text": [
      "Clipping input data to the valid range for imshow with RGB data ([0..1] for floats or [0..255] for integers).\n"
     ]
    },
    {
     "name": "stdout",
     "output_type": "stream",
     "text": [
      "570 [D loss: 0.424783, acc.: 82.87%] [G loss: 1.488869]\n"
     ]
    },
    {
     "name": "stderr",
     "output_type": "stream",
     "text": [
      "Clipping input data to the valid range for imshow with RGB data ([0..1] for floats or [0..255] for integers).\n",
      "Clipping input data to the valid range for imshow with RGB data ([0..1] for floats or [0..255] for integers).\n",
      "Clipping input data to the valid range for imshow with RGB data ([0..1] for floats or [0..255] for integers).\n",
      "Clipping input data to the valid range for imshow with RGB data ([0..1] for floats or [0..255] for integers).\n",
      "Clipping input data to the valid range for imshow with RGB data ([0..1] for floats or [0..255] for integers).\n",
      "Clipping input data to the valid range for imshow with RGB data ([0..1] for floats or [0..255] for integers).\n"
     ]
    },
    {
     "name": "stdout",
     "output_type": "stream",
     "text": [
      "571 [D loss: 0.440322, acc.: 78.73%] [G loss: 1.790578]\n",
      "572 [D loss: 0.454386, acc.: 79.01%] [G loss: 1.798205]\n",
      "573 [D loss: 0.419142, acc.: 79.56%] [G loss: 1.669983]\n",
      "574 [D loss: 0.477607, acc.: 77.90%] [G loss: 1.744405]\n",
      "575 [D loss: 0.467374, acc.: 80.66%] [G loss: 1.507185]\n",
      "576 [D loss: 0.459767, acc.: 79.83%] [G loss: 1.665536]\n",
      "577 [D loss: 0.421542, acc.: 80.11%] [G loss: 1.880991]\n",
      "578 [D loss: 0.513184, acc.: 73.20%] [G loss: 1.451361]\n",
      "579 [D loss: 0.443493, acc.: 77.07%] [G loss: 1.662239]\n"
     ]
    },
    {
     "name": "stderr",
     "output_type": "stream",
     "text": [
      "Clipping input data to the valid range for imshow with RGB data ([0..1] for floats or [0..255] for integers).\n",
      "Clipping input data to the valid range for imshow with RGB data ([0..1] for floats or [0..255] for integers).\n",
      "Clipping input data to the valid range for imshow with RGB data ([0..1] for floats or [0..255] for integers).\n",
      "Clipping input data to the valid range for imshow with RGB data ([0..1] for floats or [0..255] for integers).\n",
      "Clipping input data to the valid range for imshow with RGB data ([0..1] for floats or [0..255] for integers).\n",
      "Clipping input data to the valid range for imshow with RGB data ([0..1] for floats or [0..255] for integers).\n",
      "Clipping input data to the valid range for imshow with RGB data ([0..1] for floats or [0..255] for integers).\n",
      "Clipping input data to the valid range for imshow with RGB data ([0..1] for floats or [0..255] for integers).\n"
     ]
    },
    {
     "name": "stdout",
     "output_type": "stream",
     "text": [
      "580 [D loss: 0.486890, acc.: 77.90%] [G loss: 1.675528]\n",
      "581 [D loss: 0.449871, acc.: 80.94%] [G loss: 1.829010]\n",
      "582 [D loss: 0.439400, acc.: 80.66%] [G loss: 1.919756]\n",
      "583 [D loss: 0.420694, acc.: 81.49%] [G loss: 1.640620]\n",
      "584 [D loss: 0.467911, acc.: 79.01%] [G loss: 1.778434]\n",
      "585 [D loss: 0.470528, acc.: 76.80%] [G loss: 1.546255]\n",
      "586 [D loss: 0.444754, acc.: 78.18%] [G loss: 1.666914]\n",
      "587 [D loss: 0.462996, acc.: 76.52%] [G loss: 1.726602]\n",
      "588 [D loss: 0.560513, acc.: 69.34%] [G loss: 1.682013]\n",
      "589 [D loss: 0.480367, acc.: 77.07%] [G loss: 1.581565]\n"
     ]
    },
    {
     "name": "stderr",
     "output_type": "stream",
     "text": [
      "Clipping input data to the valid range for imshow with RGB data ([0..1] for floats or [0..255] for integers).\n",
      "Clipping input data to the valid range for imshow with RGB data ([0..1] for floats or [0..255] for integers).\n",
      "Clipping input data to the valid range for imshow with RGB data ([0..1] for floats or [0..255] for integers).\n",
      "Clipping input data to the valid range for imshow with RGB data ([0..1] for floats or [0..255] for integers).\n",
      "Clipping input data to the valid range for imshow with RGB data ([0..1] for floats or [0..255] for integers).\n",
      "Clipping input data to the valid range for imshow with RGB data ([0..1] for floats or [0..255] for integers).\n",
      "Clipping input data to the valid range for imshow with RGB data ([0..1] for floats or [0..255] for integers).\n"
     ]
    },
    {
     "name": "stdout",
     "output_type": "stream",
     "text": [
      "590 [D loss: 0.427930, acc.: 81.22%] [G loss: 1.683786]\n",
      "591 [D loss: 0.461003, acc.: 80.11%] [G loss: 1.601937]\n",
      "592 [D loss: 0.473904, acc.: 78.73%] [G loss: 1.567056]\n",
      "593 [D loss: 0.497636, acc.: 74.03%] [G loss: 1.740325]\n",
      "594 [D loss: 0.434493, acc.: 80.94%] [G loss: 1.763542]\n",
      "595 [D loss: 0.422837, acc.: 81.77%] [G loss: 1.501073]\n",
      "596 [D loss: 0.474793, acc.: 76.24%] [G loss: 1.603889]\n",
      "597 [D loss: 0.452949, acc.: 77.62%] [G loss: 1.811006]\n",
      "598 [D loss: 0.518257, acc.: 74.31%] [G loss: 1.552770]\n",
      "599 [D loss: 0.459955, acc.: 78.73%] [G loss: 1.654463]\n"
     ]
    },
    {
     "name": "stderr",
     "output_type": "stream",
     "text": [
      "Clipping input data to the valid range for imshow with RGB data ([0..1] for floats or [0..255] for integers).\n",
      "Clipping input data to the valid range for imshow with RGB data ([0..1] for floats or [0..255] for integers).\n",
      "Clipping input data to the valid range for imshow with RGB data ([0..1] for floats or [0..255] for integers).\n",
      "Clipping input data to the valid range for imshow with RGB data ([0..1] for floats or [0..255] for integers).\n",
      "Clipping input data to the valid range for imshow with RGB data ([0..1] for floats or [0..255] for integers).\n",
      "Clipping input data to the valid range for imshow with RGB data ([0..1] for floats or [0..255] for integers).\n",
      "Clipping input data to the valid range for imshow with RGB data ([0..1] for floats or [0..255] for integers).\n"
     ]
    },
    {
     "name": "stdout",
     "output_type": "stream",
     "text": [
      "600 [D loss: 0.413483, acc.: 81.49%] [G loss: 1.934731]\n",
      "601 [D loss: 0.424268, acc.: 79.56%] [G loss: 1.739313]\n",
      "602 [D loss: 0.451663, acc.: 80.39%] [G loss: 1.671311]\n",
      "603 [D loss: 0.452700, acc.: 79.28%] [G loss: 1.766558]\n",
      "604 [D loss: 0.466209, acc.: 76.24%] [G loss: 1.659241]\n",
      "605 [D loss: 0.452598, acc.: 80.94%] [G loss: 1.715389]\n",
      "606 [D loss: 0.496967, acc.: 75.69%] [G loss: 1.676027]\n",
      "607 [D loss: 0.364959, acc.: 84.25%] [G loss: 1.906325]\n",
      "608 [D loss: 0.432678, acc.: 79.01%] [G loss: 1.786786]\n",
      "609 [D loss: 0.474656, acc.: 79.28%] [G loss: 1.616751]\n"
     ]
    },
    {
     "name": "stderr",
     "output_type": "stream",
     "text": [
      "Clipping input data to the valid range for imshow with RGB data ([0..1] for floats or [0..255] for integers).\n",
      "Clipping input data to the valid range for imshow with RGB data ([0..1] for floats or [0..255] for integers).\n",
      "Clipping input data to the valid range for imshow with RGB data ([0..1] for floats or [0..255] for integers).\n",
      "Clipping input data to the valid range for imshow with RGB data ([0..1] for floats or [0..255] for integers).\n",
      "Clipping input data to the valid range for imshow with RGB data ([0..1] for floats or [0..255] for integers).\n"
     ]
    },
    {
     "name": "stdout",
     "output_type": "stream",
     "text": [
      "610 [D loss: 0.425815, acc.: 79.56%] [G loss: 1.803828]\n",
      "611 [D loss: 0.428015, acc.: 79.28%] [G loss: 1.753217]\n",
      "612 [D loss: 0.384931, acc.: 80.94%] [G loss: 1.911155]\n",
      "613 [D loss: 0.373371, acc.: 83.43%] [G loss: 2.232834]\n",
      "614 [D loss: 0.360529, acc.: 84.25%] [G loss: 2.127073]\n",
      "615 [D loss: 0.500544, acc.: 75.14%] [G loss: 1.695656]\n",
      "616 [D loss: 0.428520, acc.: 80.94%] [G loss: 1.916571]\n",
      "617 [D loss: 0.384907, acc.: 83.15%] [G loss: 1.882677]\n",
      "618 [D loss: 0.392493, acc.: 80.39%] [G loss: 1.902735]\n",
      "619 [D loss: 0.506494, acc.: 76.80%] [G loss: 1.826631]\n"
     ]
    },
    {
     "name": "stderr",
     "output_type": "stream",
     "text": [
      "Clipping input data to the valid range for imshow with RGB data ([0..1] for floats or [0..255] for integers).\n",
      "Clipping input data to the valid range for imshow with RGB data ([0..1] for floats or [0..255] for integers).\n",
      "Clipping input data to the valid range for imshow with RGB data ([0..1] for floats or [0..255] for integers).\n",
      "Clipping input data to the valid range for imshow with RGB data ([0..1] for floats or [0..255] for integers).\n",
      "Clipping input data to the valid range for imshow with RGB data ([0..1] for floats or [0..255] for integers).\n",
      "Clipping input data to the valid range for imshow with RGB data ([0..1] for floats or [0..255] for integers).\n"
     ]
    },
    {
     "name": "stdout",
     "output_type": "stream",
     "text": [
      "620 [D loss: 0.407314, acc.: 82.60%] [G loss: 1.930970]\n",
      "621 [D loss: 0.369449, acc.: 84.53%] [G loss: 1.899756]\n",
      "622 [D loss: 0.450281, acc.: 77.90%] [G loss: 1.714490]\n",
      "623 [D loss: 0.439357, acc.: 78.73%] [G loss: 1.795727]\n",
      "624 [D loss: 0.419179, acc.: 79.83%] [G loss: 1.903338]\n",
      "625 [D loss: 0.381887, acc.: 82.60%] [G loss: 1.855221]\n",
      "626 [D loss: 0.475802, acc.: 75.97%] [G loss: 1.770510]\n",
      "627 [D loss: 0.457174, acc.: 78.73%] [G loss: 1.901576]\n",
      "628 [D loss: 0.445396, acc.: 77.62%] [G loss: 1.867859]\n",
      "629 [D loss: 0.445869, acc.: 79.28%] [G loss: 1.655559]\n"
     ]
    },
    {
     "name": "stderr",
     "output_type": "stream",
     "text": [
      "Clipping input data to the valid range for imshow with RGB data ([0..1] for floats or [0..255] for integers).\n",
      "Clipping input data to the valid range for imshow with RGB data ([0..1] for floats or [0..255] for integers).\n",
      "Clipping input data to the valid range for imshow with RGB data ([0..1] for floats or [0..255] for integers).\n",
      "Clipping input data to the valid range for imshow with RGB data ([0..1] for floats or [0..255] for integers).\n",
      "Clipping input data to the valid range for imshow with RGB data ([0..1] for floats or [0..255] for integers).\n",
      "Clipping input data to the valid range for imshow with RGB data ([0..1] for floats or [0..255] for integers).\n"
     ]
    },
    {
     "name": "stdout",
     "output_type": "stream",
     "text": [
      "630 [D loss: 0.454558, acc.: 78.45%] [G loss: 1.791974]\n",
      "631 [D loss: 0.448953, acc.: 80.11%] [G loss: 1.788374]\n",
      "632 [D loss: 0.461557, acc.: 80.94%] [G loss: 1.857341]\n",
      "633 [D loss: 0.444981, acc.: 80.94%] [G loss: 1.679924]\n",
      "634 [D loss: 0.418312, acc.: 79.28%] [G loss: 1.791483]\n",
      "635 [D loss: 0.399841, acc.: 80.11%] [G loss: 1.866219]\n",
      "636 [D loss: 0.390342, acc.: 82.32%] [G loss: 1.702481]\n",
      "637 [D loss: 0.425998, acc.: 79.28%] [G loss: 1.934051]\n",
      "638 [D loss: 0.444842, acc.: 78.73%] [G loss: 1.848975]\n",
      "639 [D loss: 0.368519, acc.: 82.32%] [G loss: 1.974079]\n"
     ]
    },
    {
     "name": "stderr",
     "output_type": "stream",
     "text": [
      "Clipping input data to the valid range for imshow with RGB data ([0..1] for floats or [0..255] for integers).\n",
      "Clipping input data to the valid range for imshow with RGB data ([0..1] for floats or [0..255] for integers).\n",
      "Clipping input data to the valid range for imshow with RGB data ([0..1] for floats or [0..255] for integers).\n",
      "Clipping input data to the valid range for imshow with RGB data ([0..1] for floats or [0..255] for integers).\n",
      "Clipping input data to the valid range for imshow with RGB data ([0..1] for floats or [0..255] for integers).\n",
      "Clipping input data to the valid range for imshow with RGB data ([0..1] for floats or [0..255] for integers).\n",
      "Clipping input data to the valid range for imshow with RGB data ([0..1] for floats or [0..255] for integers).\n"
     ]
    },
    {
     "name": "stdout",
     "output_type": "stream",
     "text": [
      "640 [D loss: 0.423395, acc.: 79.28%] [G loss: 1.675146]\n",
      "641 [D loss: 0.376948, acc.: 83.43%] [G loss: 1.946996]\n",
      "642 [D loss: 0.473155, acc.: 78.73%] [G loss: 1.736670]\n",
      "643 [D loss: 0.432659, acc.: 78.18%] [G loss: 1.802942]\n",
      "644 [D loss: 0.452067, acc.: 76.24%] [G loss: 1.885188]\n",
      "645 [D loss: 0.399156, acc.: 82.32%] [G loss: 1.910502]\n",
      "646 [D loss: 0.405646, acc.: 81.49%] [G loss: 1.737571]\n",
      "647 [D loss: 0.390128, acc.: 81.77%] [G loss: 1.913522]\n",
      "648 [D loss: 0.430606, acc.: 79.01%] [G loss: 1.742225]\n",
      "649 [D loss: 0.434041, acc.: 79.01%] [G loss: 1.655002]\n"
     ]
    },
    {
     "name": "stderr",
     "output_type": "stream",
     "text": [
      "Clipping input data to the valid range for imshow with RGB data ([0..1] for floats or [0..255] for integers).\n",
      "Clipping input data to the valid range for imshow with RGB data ([0..1] for floats or [0..255] for integers).\n",
      "Clipping input data to the valid range for imshow with RGB data ([0..1] for floats or [0..255] for integers).\n",
      "Clipping input data to the valid range for imshow with RGB data ([0..1] for floats or [0..255] for integers).\n",
      "Clipping input data to the valid range for imshow with RGB data ([0..1] for floats or [0..255] for integers).\n",
      "Clipping input data to the valid range for imshow with RGB data ([0..1] for floats or [0..255] for integers).\n",
      "Clipping input data to the valid range for imshow with RGB data ([0..1] for floats or [0..255] for integers).\n",
      "Clipping input data to the valid range for imshow with RGB data ([0..1] for floats or [0..255] for integers).\n"
     ]
    },
    {
     "name": "stdout",
     "output_type": "stream",
     "text": [
      "650 [D loss: 0.431384, acc.: 81.22%] [G loss: 1.746825]\n",
      "651 [D loss: 0.007221, acc.: 100.00%] [G loss: 694.366150]\n",
      "652 [D loss: 0.001816, acc.: 100.00%] [G loss: 483.568634]\n",
      "653 [D loss: 0.000288, acc.: 100.00%] [G loss: 358.455597]\n",
      "654 [D loss: 0.012420, acc.: 99.72%] [G loss: 55.460583]\n",
      "655 [D loss: 0.005851, acc.: 100.00%] [G loss: 9.686316]\n",
      "656 [D loss: 0.038692, acc.: 98.34%] [G loss: 9.887100]\n",
      "657 [D loss: 0.045733, acc.: 98.62%] [G loss: 8.781719]\n",
      "658 [D loss: 0.069104, acc.: 98.07%] [G loss: 9.119108]\n",
      "659 [D loss: 0.012583, acc.: 99.17%] [G loss: 9.432611]\n"
     ]
    },
    {
     "name": "stderr",
     "output_type": "stream",
     "text": [
      "Clipping input data to the valid range for imshow with RGB data ([0..1] for floats or [0..255] for integers).\n",
      "Clipping input data to the valid range for imshow with RGB data ([0..1] for floats or [0..255] for integers).\n",
      "Clipping input data to the valid range for imshow with RGB data ([0..1] for floats or [0..255] for integers).\n"
     ]
    },
    {
     "name": "stdout",
     "output_type": "stream",
     "text": [
      "660 [D loss: 0.006909, acc.: 99.72%] [G loss: 9.061831]\n",
      "661 [D loss: 0.011894, acc.: 99.45%] [G loss: 9.733503]\n",
      "662 [D loss: 0.088259, acc.: 97.79%] [G loss: 4.486617]\n",
      "663 [D loss: 0.017384, acc.: 99.45%] [G loss: 7.310849]\n",
      "664 [D loss: 0.032314, acc.: 98.62%] [G loss: 7.901332]\n",
      "665 [D loss: 0.018865, acc.: 99.45%] [G loss: 8.785209]\n",
      "666 [D loss: 0.026642, acc.: 98.90%] [G loss: 8.251542]\n",
      "667 [D loss: 0.045245, acc.: 98.34%] [G loss: 8.478816]\n",
      "668 [D loss: 0.026777, acc.: 98.90%] [G loss: 8.748051]\n",
      "669 [D loss: 0.030521, acc.: 99.72%] [G loss: 8.681926]\n"
     ]
    },
    {
     "name": "stderr",
     "output_type": "stream",
     "text": [
      "Clipping input data to the valid range for imshow with RGB data ([0..1] for floats or [0..255] for integers).\n",
      "Clipping input data to the valid range for imshow with RGB data ([0..1] for floats or [0..255] for integers).\n",
      "Clipping input data to the valid range for imshow with RGB data ([0..1] for floats or [0..255] for integers).\n",
      "Clipping input data to the valid range for imshow with RGB data ([0..1] for floats or [0..255] for integers).\n"
     ]
    },
    {
     "name": "stdout",
     "output_type": "stream",
     "text": [
      "670 [D loss: 0.045192, acc.: 98.62%] [G loss: 10.379062]\n",
      "671 [D loss: 0.065294, acc.: 97.24%] [G loss: 7.999572]\n",
      "672 [D loss: 0.037317, acc.: 98.34%] [G loss: 7.486327]\n",
      "673 [D loss: 0.048752, acc.: 98.34%] [G loss: 7.807736]\n",
      "674 [D loss: 0.040979, acc.: 98.90%] [G loss: 8.565573]\n",
      "675 [D loss: 0.039462, acc.: 98.90%] [G loss: 8.261299]\n",
      "676 [D loss: 0.089876, acc.: 96.96%] [G loss: 7.634494]\n",
      "677 [D loss: 0.015331, acc.: 99.72%] [G loss: 7.728773]\n",
      "678 [D loss: 0.135105, acc.: 96.13%] [G loss: 7.460355]\n",
      "679 [D loss: 0.034973, acc.: 99.17%] [G loss: 8.076601]\n"
     ]
    },
    {
     "name": "stderr",
     "output_type": "stream",
     "text": [
      "Clipping input data to the valid range for imshow with RGB data ([0..1] for floats or [0..255] for integers).\n",
      "Clipping input data to the valid range for imshow with RGB data ([0..1] for floats or [0..255] for integers).\n",
      "Clipping input data to the valid range for imshow with RGB data ([0..1] for floats or [0..255] for integers).\n",
      "Clipping input data to the valid range for imshow with RGB data ([0..1] for floats or [0..255] for integers).\n",
      "Clipping input data to the valid range for imshow with RGB data ([0..1] for floats or [0..255] for integers).\n",
      "Clipping input data to the valid range for imshow with RGB data ([0..1] for floats or [0..255] for integers).\n"
     ]
    },
    {
     "name": "stdout",
     "output_type": "stream",
     "text": [
      "680 [D loss: 0.030870, acc.: 99.17%] [G loss: 8.798630]\n",
      "681 [D loss: 0.028315, acc.: 98.90%] [G loss: 7.623681]\n",
      "682 [D loss: 0.010144, acc.: 99.72%] [G loss: 8.321249]\n",
      "683 [D loss: 0.081753, acc.: 96.41%] [G loss: 7.329447]\n",
      "684 [D loss: 0.009766, acc.: 99.72%] [G loss: 8.205248]\n",
      "685 [D loss: 0.059688, acc.: 98.90%] [G loss: 7.660392]\n",
      "686 [D loss: 0.032642, acc.: 99.17%] [G loss: 8.832496]\n",
      "687 [D loss: 0.144841, acc.: 93.92%] [G loss: 7.122180]\n",
      "688 [D loss: 0.067021, acc.: 96.96%] [G loss: 7.411631]\n",
      "689 [D loss: 0.045804, acc.: 98.34%] [G loss: 8.761347]\n"
     ]
    },
    {
     "name": "stderr",
     "output_type": "stream",
     "text": [
      "Clipping input data to the valid range for imshow with RGB data ([0..1] for floats or [0..255] for integers).\n",
      "Clipping input data to the valid range for imshow with RGB data ([0..1] for floats or [0..255] for integers).\n",
      "Clipping input data to the valid range for imshow with RGB data ([0..1] for floats or [0..255] for integers).\n",
      "Clipping input data to the valid range for imshow with RGB data ([0..1] for floats or [0..255] for integers).\n",
      "Clipping input data to the valid range for imshow with RGB data ([0..1] for floats or [0..255] for integers).\n"
     ]
    },
    {
     "name": "stdout",
     "output_type": "stream",
     "text": [
      "690 [D loss: 0.028516, acc.: 98.90%] [G loss: 6.930908]\n",
      "691 [D loss: 0.042448, acc.: 98.34%] [G loss: 6.662126]\n",
      "692 [D loss: 0.068294, acc.: 97.79%] [G loss: 6.457507]\n",
      "693 [D loss: 0.028323, acc.: 98.90%] [G loss: 7.272249]\n",
      "694 [D loss: 0.078320, acc.: 97.79%] [G loss: 6.951348]\n",
      "695 [D loss: 0.038931, acc.: 98.07%] [G loss: 6.309139]\n",
      "696 [D loss: 0.093883, acc.: 96.41%] [G loss: 6.319352]\n",
      "697 [D loss: 0.072756, acc.: 97.51%] [G loss: 5.710264]\n",
      "698 [D loss: 0.083850, acc.: 97.51%] [G loss: 5.612433]\n",
      "699 [D loss: 0.101943, acc.: 96.13%] [G loss: 6.344057]\n"
     ]
    },
    {
     "name": "stderr",
     "output_type": "stream",
     "text": [
      "Clipping input data to the valid range for imshow with RGB data ([0..1] for floats or [0..255] for integers).\n",
      "Clipping input data to the valid range for imshow with RGB data ([0..1] for floats or [0..255] for integers).\n",
      "Clipping input data to the valid range for imshow with RGB data ([0..1] for floats or [0..255] for integers).\n",
      "Clipping input data to the valid range for imshow with RGB data ([0..1] for floats or [0..255] for integers).\n",
      "Clipping input data to the valid range for imshow with RGB data ([0..1] for floats or [0..255] for integers).\n",
      "Clipping input data to the valid range for imshow with RGB data ([0..1] for floats or [0..255] for integers).\n",
      "Clipping input data to the valid range for imshow with RGB data ([0..1] for floats or [0..255] for integers).\n"
     ]
    },
    {
     "name": "stdout",
     "output_type": "stream",
     "text": [
      "700 [D loss: 0.103002, acc.: 95.86%] [G loss: 5.808981]\n"
     ]
    }
   ],
   "source": [
    "dcgan.train(epochs=50001, batch_size=181, save_interval=10)"
   ]
  }
 ],
 "metadata": {
  "kernelspec": {
   "display_name": "Python 3",
   "language": "python",
   "name": "python3"
  },
  "language_info": {
   "codemirror_mode": {
    "name": "ipython",
    "version": 3
   },
   "file_extension": ".py",
   "mimetype": "text/x-python",
   "name": "python",
   "nbconvert_exporter": "python",
   "pygments_lexer": "ipython3",
   "version": "3.7.4"
  }
 },
 "nbformat": 4,
 "nbformat_minor": 2
}
